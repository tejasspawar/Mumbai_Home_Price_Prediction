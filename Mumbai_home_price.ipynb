{
  "nbformat": 4,
  "nbformat_minor": 0,
  "metadata": {
    "colab": {
      "name": "Mumbai home price.ipynb",
      "provenance": [],
      "collapsed_sections": [
        "Mg_u087GcQWC",
        "QOBsUPJbdN8J",
        "6PRGrIyTwqF7",
        "0ss2OmuewRPs",
        "wqCyNTRrxl_9",
        "UhBi7drKxvp3",
        "csJWJacysCJS"
      ],
      "include_colab_link": true
    },
    "kernelspec": {
      "name": "python3",
      "display_name": "Python 3"
    },
    "language_info": {
      "name": "python"
    }
  },
  "cells": [
    {
      "cell_type": "markdown",
      "metadata": {
        "id": "view-in-github",
        "colab_type": "text"
      },
      "source": [
        "<a href=\"https://colab.research.google.com/github/tejasspawar/Mumbai_Home_Price_Prediction/blob/main/Mumbai_home_price.ipynb\" target=\"_parent\"><img src=\"https://colab.research.google.com/assets/colab-badge.svg\" alt=\"Open In Colab\"/></a>"
      ]
    },
    {
      "cell_type": "markdown",
      "metadata": {
        "id": "cKYteLddb6-h"
      },
      "source": [
        "# Importing libraies\n"
      ]
    },
    {
      "cell_type": "code",
      "metadata": {
        "id": "A_w190Mm6HFb"
      },
      "source": [
        "import numpy as np\n",
        "import pandas as pd\n",
        "import matplotlib.pyplot as plt\n",
        "import seaborn as sns\n",
        "import re\n",
        "\n",
        "pd.set_option('display.float_format', lambda x: '%.2f' % x)\n",
        "pd.set_option('display.max_columns', None)\n",
        "from pandas.api.types import is_numeric_dtype\n",
        "from matplotlib import style\n",
        "style.use('ggplot')"
      ],
      "execution_count": null,
      "outputs": []
    },
    {
      "cell_type": "markdown",
      "metadata": {
        "id": "2ZQ_B1eRcDZh"
      },
      "source": [
        "# Uploading file"
      ]
    },
    {
      "cell_type": "code",
      "metadata": {
        "id": "RPOFMgA46NZR",
        "outputId": "3a468adb-04f2-455a-8101-8d0c33687771",
        "colab": {
          "base_uri": "https://localhost:8080/",
          "height": 39,
          "resources": {
            "http://localhost:8080/nbextensions/google.colab/files.js": {
              "data": "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",
              "ok": true,
              "headers": [
                [
                  "content-type",
                  "application/javascript"
                ]
              ],
              "status": 200,
              "status_text": ""
            }
          }
        }
      },
      "source": [
        "from google.colab import files\n",
        "\n",
        "uploaded = files.upload() # Here we will upload the csv files for this problem\n",
        "\n",
        "for fn in uploaded.keys():\n",
        " print('You uploaded file \"{name}\" with length {length} bytes'.format(name=fn, length=len(uploaded[fn])))"
      ],
      "execution_count": 7,
      "outputs": [
        {
          "output_type": "display_data",
          "data": {
            "text/plain": [
              "<IPython.core.display.HTML object>"
            ],
            "text/html": [
              "\n",
              "     <input type=\"file\" id=\"files-b98dd342-60c2-47c9-b0c2-6c7f70d8f2d0\" name=\"files[]\" multiple disabled\n",
              "        style=\"border:none\" />\n",
              "     <output id=\"result-b98dd342-60c2-47c9-b0c2-6c7f70d8f2d0\">\n",
              "      Upload widget is only available when the cell has been executed in the\n",
              "      current browser session. Please rerun this cell to enable.\n",
              "      </output>\n",
              "      <script src=\"/nbextensions/google.colab/files.js\"></script> "
            ]
          },
          "metadata": {}
        }
      ]
    },
    {
      "cell_type": "markdown",
      "metadata": {
        "id": "Mg_u087GcQWC"
      },
      "source": [
        "# Loading and Viewing Data"
      ]
    },
    {
      "cell_type": "code",
      "metadata": {
        "id": "ysy8LHBp6Ssm"
      },
      "source": [
        "df1 = pd.read_csv('99acres.csv', header=None, skiprows=[0])"
      ],
      "execution_count": 8,
      "outputs": []
    },
    {
      "cell_type": "code",
      "source": [
        "from google.colab import drive\n",
        "drive.mount('/content/drive')"
      ],
      "metadata": {
        "id": "RV7iGcr0gtmt",
        "outputId": "542ba4a4-b3ed-44a9-b335-edb45d65da3b",
        "colab": {
          "base_uri": "https://localhost:8080/"
        }
      },
      "execution_count": 4,
      "outputs": [
        {
          "output_type": "stream",
          "name": "stdout",
          "text": [
            "Mounted at /content/drive\n"
          ]
        }
      ]
    },
    {
      "cell_type": "code",
      "metadata": {
        "colab": {
          "base_uri": "https://localhost:8080/",
          "height": 863
        },
        "id": "5MOrB1m86gni",
        "outputId": "60315bfb-e5fe-473d-b412-871b9d18ff28"
      },
      "source": [
        "df1.head()"
      ],
      "execution_count": 9,
      "outputs": [
        {
          "output_type": "execute_result",
          "data": {
            "text/plain": [
              "                                                  0     1   \\\n",
              "0  https://static.99acres.com/universalapp/img/no... 14.00   \n",
              "1  https://static.99acres.com/universalapp/img/no... 20.00   \n",
              "2  https://static.99acres.com/universalapp/img/no... 16.00   \n",
              "3  https://static.99acres.com/universalapp/img/no... 11.00   \n",
              "4  https://static.99acres.com/universalapp/img/no... 15.00   \n",
              "\n",
              "                                                  2   \\\n",
              "0  https://www.99acres.com/3-bhk-bedroom-resident...   \n",
              "1  https://www.99acres.com/2-bhk-bedroom-resident...   \n",
              "2  https://www.99acres.com/2-bhk-bedroom-resident...   \n",
              "3  https://www.99acres.com/1-bhk-bedroom-resident...   \n",
              "4  https://www.99acres.com/2-bhk-bedroom-resident...   \n",
              "\n",
              "                                              3                       4   \\\n",
              "0  3 BHK Residential Apartment in Mira Road East           SKD Pinnacolo   \n",
              "1        2 BHK Residential Apartment in Kharghar  Paradise Sai Solitaire   \n",
              "2            2 BHK Residential Apartment in Ulwe   Balaji Mayuresh Delta   \n",
              "3          1 BHK Residential Apartment in Vakola              on request   \n",
              "4        2 BHK Residential Apartment in Ghansoli              On request   \n",
              "\n",
              "                                                  5       6   7   \\\n",
              "0  https://www.99acres.com/skd-pinnacolo-mira-roa...   ₹ 1.3  Cr   \n",
              "1  https://www.99acres.com/paradise-sai-solitaire...  ₹ 1.23  Cr   \n",
              "2  https://www.99acres.com/balaji-mayuresh-delta-...  ₹ 1.15  Cr   \n",
              "3                                                NaN   ₹ 1.1  Cr   \n",
              "4                                                NaN   ₹ 1.7  Cr   \n",
              "\n",
              "                8      9       10                               11     12  \\\n",
              "0   ₹ 9,737/sq.ft.  1,335  sq.ft.  (124 sq.m.) Super built-up Area  3 BHK   \n",
              "1  ₹ 10,622/sq.ft.  1,205  sq.ft.  (112 sq.m.) Super built-up Area  2 BHK   \n",
              "2   ₹ 9,274/sq.ft.  1,240  sq.ft.  (115 sq.m.) Super built-up Area  2 BHK   \n",
              "3  ₹ 14,473/sq.ft.    760  sq.ft.   (71 sq.m.) Super built-up Area  1 BHK   \n",
              "4  ₹ 12,142/sq.ft.  1,400  sq.ft.        (130 sq.m.) Built-up Area  2 BHK   \n",
              "\n",
              "        13                                                 14    15  \\\n",
              "0  3 Baths  3 bhk resale flat is available in the promisin...  more   \n",
              "1  2 Baths  One of the premium residential project in khar...  more   \n",
              "2  2 Baths  This is a meticulously designed 2 bhk resale a...  more   \n",
              "3   1 Bath  This is a good 1 bhk flat located in vakola. T...  more   \n",
              "4  2 Baths  A 2 bedroom resale flat, located in ghansoli, ...  more   \n",
              "\n",
              "              16      17    18        19              20    21         22  \\\n",
              "0  READY TO MOVE  RESALE  RERA  Verified  Share Feedback  Hide  Shortlist   \n",
              "1  READY TO MOVE  RESALE   NaN  Verified  Share Feedback  Hide  Shortlist   \n",
              "2  READY TO MOVE  RESALE  RERA  Verified  Share Feedback  Hide  Shortlist   \n",
              "3  READY TO MOVE  RESALE   NaN  Verified  Share Feedback  Hide  Shortlist   \n",
              "4  READY TO MOVE  RESALE   NaN  Verified  Share Feedback  Hide  Shortlist   \n",
              "\n",
              "                       23                           24  \\\n",
              "0  RERA Registered Dealer  Posted on 13th Apr, 2021 by   \n",
              "1                  Dealer  Posted on 15th Mar, 2021 by   \n",
              "2                  Dealer  Posted on 10th Jun, 2021 by   \n",
              "3  RERA Registered Dealer  Posted on 08th Jun, 2021 by   \n",
              "4  RERA Registered Dealer  Posted on 13th Feb, 2021 by   \n",
              "\n",
              "                                     25                 26              27  \\\n",
              "0                 Noronha Estate Agency  View Phone Number  Contact Dealer   \n",
              "1  ROMIL JATANIA REAL ESTATE CONSULTING  View Phone Number  Contact Dealer   \n",
              "2                  Aaradhya Enterprises  View Phone Number  Contact Dealer   \n",
              "3                     ISLAND Properties  View Phone Number  Contact Dealer   \n",
              "4                   Findex Property.com  View Phone Number  Contact Dealer   \n",
              "\n",
              "    28   29                                                 30          31  \\\n",
              "0  NaN  NaN  This property has been verified on location by...  Learn more   \n",
              "1  NaN  NaN  This property has been verified on location by...  Learn more   \n",
              "2  NaN  NaN  This property has been verified on location by...  Learn more   \n",
              "3  NaN  NaN  This property has been verified on location by...  Learn more   \n",
              "4  NaN  NaN  This property has been verified on location by...  Learn more   \n",
              "\n",
              "                                                 32  \n",
              "0  https://www.99acres.com/property-in-mumbai-ffid#  \n",
              "1  https://www.99acres.com/property-in-mumbai-ffid#  \n",
              "2  https://www.99acres.com/property-in-mumbai-ffid#  \n",
              "3  https://www.99acres.com/property-in-mumbai-ffid#  \n",
              "4  https://www.99acres.com/property-in-mumbai-ffid#  "
            ],
            "text/html": [
              "\n",
              "  <div id=\"df-d2c622f1-d1c5-4e13-819c-edb0282a0d2d\">\n",
              "    <div class=\"colab-df-container\">\n",
              "      <div>\n",
              "<style scoped>\n",
              "    .dataframe tbody tr th:only-of-type {\n",
              "        vertical-align: middle;\n",
              "    }\n",
              "\n",
              "    .dataframe tbody tr th {\n",
              "        vertical-align: top;\n",
              "    }\n",
              "\n",
              "    .dataframe thead th {\n",
              "        text-align: right;\n",
              "    }\n",
              "</style>\n",
              "<table border=\"1\" class=\"dataframe\">\n",
              "  <thead>\n",
              "    <tr style=\"text-align: right;\">\n",
              "      <th></th>\n",
              "      <th>0</th>\n",
              "      <th>1</th>\n",
              "      <th>2</th>\n",
              "      <th>3</th>\n",
              "      <th>4</th>\n",
              "      <th>5</th>\n",
              "      <th>6</th>\n",
              "      <th>7</th>\n",
              "      <th>8</th>\n",
              "      <th>9</th>\n",
              "      <th>10</th>\n",
              "      <th>11</th>\n",
              "      <th>12</th>\n",
              "      <th>13</th>\n",
              "      <th>14</th>\n",
              "      <th>15</th>\n",
              "      <th>16</th>\n",
              "      <th>17</th>\n",
              "      <th>18</th>\n",
              "      <th>19</th>\n",
              "      <th>20</th>\n",
              "      <th>21</th>\n",
              "      <th>22</th>\n",
              "      <th>23</th>\n",
              "      <th>24</th>\n",
              "      <th>25</th>\n",
              "      <th>26</th>\n",
              "      <th>27</th>\n",
              "      <th>28</th>\n",
              "      <th>29</th>\n",
              "      <th>30</th>\n",
              "      <th>31</th>\n",
              "      <th>32</th>\n",
              "    </tr>\n",
              "  </thead>\n",
              "  <tbody>\n",
              "    <tr>\n",
              "      <th>0</th>\n",
              "      <td>https://static.99acres.com/universalapp/img/no...</td>\n",
              "      <td>14.00</td>\n",
              "      <td>https://www.99acres.com/3-bhk-bedroom-resident...</td>\n",
              "      <td>3 BHK Residential Apartment in Mira Road East</td>\n",
              "      <td>SKD Pinnacolo</td>\n",
              "      <td>https://www.99acres.com/skd-pinnacolo-mira-roa...</td>\n",
              "      <td>₹ 1.3</td>\n",
              "      <td>Cr</td>\n",
              "      <td>₹ 9,737/sq.ft.</td>\n",
              "      <td>1,335</td>\n",
              "      <td>sq.ft.</td>\n",
              "      <td>(124 sq.m.) Super built-up Area</td>\n",
              "      <td>3 BHK</td>\n",
              "      <td>3 Baths</td>\n",
              "      <td>3 bhk resale flat is available in the promisin...</td>\n",
              "      <td>more</td>\n",
              "      <td>READY TO MOVE</td>\n",
              "      <td>RESALE</td>\n",
              "      <td>RERA</td>\n",
              "      <td>Verified</td>\n",
              "      <td>Share Feedback</td>\n",
              "      <td>Hide</td>\n",
              "      <td>Shortlist</td>\n",
              "      <td>RERA Registered Dealer</td>\n",
              "      <td>Posted on 13th Apr, 2021 by</td>\n",
              "      <td>Noronha Estate Agency</td>\n",
              "      <td>View Phone Number</td>\n",
              "      <td>Contact Dealer</td>\n",
              "      <td>NaN</td>\n",
              "      <td>NaN</td>\n",
              "      <td>This property has been verified on location by...</td>\n",
              "      <td>Learn more</td>\n",
              "      <td>https://www.99acres.com/property-in-mumbai-ffid#</td>\n",
              "    </tr>\n",
              "    <tr>\n",
              "      <th>1</th>\n",
              "      <td>https://static.99acres.com/universalapp/img/no...</td>\n",
              "      <td>20.00</td>\n",
              "      <td>https://www.99acres.com/2-bhk-bedroom-resident...</td>\n",
              "      <td>2 BHK Residential Apartment in Kharghar</td>\n",
              "      <td>Paradise Sai Solitaire</td>\n",
              "      <td>https://www.99acres.com/paradise-sai-solitaire...</td>\n",
              "      <td>₹ 1.23</td>\n",
              "      <td>Cr</td>\n",
              "      <td>₹ 10,622/sq.ft.</td>\n",
              "      <td>1,205</td>\n",
              "      <td>sq.ft.</td>\n",
              "      <td>(112 sq.m.) Super built-up Area</td>\n",
              "      <td>2 BHK</td>\n",
              "      <td>2 Baths</td>\n",
              "      <td>One of the premium residential project in khar...</td>\n",
              "      <td>more</td>\n",
              "      <td>READY TO MOVE</td>\n",
              "      <td>RESALE</td>\n",
              "      <td>NaN</td>\n",
              "      <td>Verified</td>\n",
              "      <td>Share Feedback</td>\n",
              "      <td>Hide</td>\n",
              "      <td>Shortlist</td>\n",
              "      <td>Dealer</td>\n",
              "      <td>Posted on 15th Mar, 2021 by</td>\n",
              "      <td>ROMIL JATANIA REAL ESTATE CONSULTING</td>\n",
              "      <td>View Phone Number</td>\n",
              "      <td>Contact Dealer</td>\n",
              "      <td>NaN</td>\n",
              "      <td>NaN</td>\n",
              "      <td>This property has been verified on location by...</td>\n",
              "      <td>Learn more</td>\n",
              "      <td>https://www.99acres.com/property-in-mumbai-ffid#</td>\n",
              "    </tr>\n",
              "    <tr>\n",
              "      <th>2</th>\n",
              "      <td>https://static.99acres.com/universalapp/img/no...</td>\n",
              "      <td>16.00</td>\n",
              "      <td>https://www.99acres.com/2-bhk-bedroom-resident...</td>\n",
              "      <td>2 BHK Residential Apartment in Ulwe</td>\n",
              "      <td>Balaji Mayuresh Delta</td>\n",
              "      <td>https://www.99acres.com/balaji-mayuresh-delta-...</td>\n",
              "      <td>₹ 1.15</td>\n",
              "      <td>Cr</td>\n",
              "      <td>₹ 9,274/sq.ft.</td>\n",
              "      <td>1,240</td>\n",
              "      <td>sq.ft.</td>\n",
              "      <td>(115 sq.m.) Super built-up Area</td>\n",
              "      <td>2 BHK</td>\n",
              "      <td>2 Baths</td>\n",
              "      <td>This is a meticulously designed 2 bhk resale a...</td>\n",
              "      <td>more</td>\n",
              "      <td>READY TO MOVE</td>\n",
              "      <td>RESALE</td>\n",
              "      <td>RERA</td>\n",
              "      <td>Verified</td>\n",
              "      <td>Share Feedback</td>\n",
              "      <td>Hide</td>\n",
              "      <td>Shortlist</td>\n",
              "      <td>Dealer</td>\n",
              "      <td>Posted on 10th Jun, 2021 by</td>\n",
              "      <td>Aaradhya Enterprises</td>\n",
              "      <td>View Phone Number</td>\n",
              "      <td>Contact Dealer</td>\n",
              "      <td>NaN</td>\n",
              "      <td>NaN</td>\n",
              "      <td>This property has been verified on location by...</td>\n",
              "      <td>Learn more</td>\n",
              "      <td>https://www.99acres.com/property-in-mumbai-ffid#</td>\n",
              "    </tr>\n",
              "    <tr>\n",
              "      <th>3</th>\n",
              "      <td>https://static.99acres.com/universalapp/img/no...</td>\n",
              "      <td>11.00</td>\n",
              "      <td>https://www.99acres.com/1-bhk-bedroom-resident...</td>\n",
              "      <td>1 BHK Residential Apartment in Vakola</td>\n",
              "      <td>on request</td>\n",
              "      <td>NaN</td>\n",
              "      <td>₹ 1.1</td>\n",
              "      <td>Cr</td>\n",
              "      <td>₹ 14,473/sq.ft.</td>\n",
              "      <td>760</td>\n",
              "      <td>sq.ft.</td>\n",
              "      <td>(71 sq.m.) Super built-up Area</td>\n",
              "      <td>1 BHK</td>\n",
              "      <td>1 Bath</td>\n",
              "      <td>This is a good 1 bhk flat located in vakola. T...</td>\n",
              "      <td>more</td>\n",
              "      <td>READY TO MOVE</td>\n",
              "      <td>RESALE</td>\n",
              "      <td>NaN</td>\n",
              "      <td>Verified</td>\n",
              "      <td>Share Feedback</td>\n",
              "      <td>Hide</td>\n",
              "      <td>Shortlist</td>\n",
              "      <td>RERA Registered Dealer</td>\n",
              "      <td>Posted on 08th Jun, 2021 by</td>\n",
              "      <td>ISLAND Properties</td>\n",
              "      <td>View Phone Number</td>\n",
              "      <td>Contact Dealer</td>\n",
              "      <td>NaN</td>\n",
              "      <td>NaN</td>\n",
              "      <td>This property has been verified on location by...</td>\n",
              "      <td>Learn more</td>\n",
              "      <td>https://www.99acres.com/property-in-mumbai-ffid#</td>\n",
              "    </tr>\n",
              "    <tr>\n",
              "      <th>4</th>\n",
              "      <td>https://static.99acres.com/universalapp/img/no...</td>\n",
              "      <td>15.00</td>\n",
              "      <td>https://www.99acres.com/2-bhk-bedroom-resident...</td>\n",
              "      <td>2 BHK Residential Apartment in Ghansoli</td>\n",
              "      <td>On request</td>\n",
              "      <td>NaN</td>\n",
              "      <td>₹ 1.7</td>\n",
              "      <td>Cr</td>\n",
              "      <td>₹ 12,142/sq.ft.</td>\n",
              "      <td>1,400</td>\n",
              "      <td>sq.ft.</td>\n",
              "      <td>(130 sq.m.) Built-up Area</td>\n",
              "      <td>2 BHK</td>\n",
              "      <td>2 Baths</td>\n",
              "      <td>A 2 bedroom resale flat, located in ghansoli, ...</td>\n",
              "      <td>more</td>\n",
              "      <td>READY TO MOVE</td>\n",
              "      <td>RESALE</td>\n",
              "      <td>NaN</td>\n",
              "      <td>Verified</td>\n",
              "      <td>Share Feedback</td>\n",
              "      <td>Hide</td>\n",
              "      <td>Shortlist</td>\n",
              "      <td>RERA Registered Dealer</td>\n",
              "      <td>Posted on 13th Feb, 2021 by</td>\n",
              "      <td>Findex Property.com</td>\n",
              "      <td>View Phone Number</td>\n",
              "      <td>Contact Dealer</td>\n",
              "      <td>NaN</td>\n",
              "      <td>NaN</td>\n",
              "      <td>This property has been verified on location by...</td>\n",
              "      <td>Learn more</td>\n",
              "      <td>https://www.99acres.com/property-in-mumbai-ffid#</td>\n",
              "    </tr>\n",
              "  </tbody>\n",
              "</table>\n",
              "</div>\n",
              "      <button class=\"colab-df-convert\" onclick=\"convertToInteractive('df-d2c622f1-d1c5-4e13-819c-edb0282a0d2d')\"\n",
              "              title=\"Convert this dataframe to an interactive table.\"\n",
              "              style=\"display:none;\">\n",
              "        \n",
              "  <svg xmlns=\"http://www.w3.org/2000/svg\" height=\"24px\"viewBox=\"0 0 24 24\"\n",
              "       width=\"24px\">\n",
              "    <path d=\"M0 0h24v24H0V0z\" fill=\"none\"/>\n",
              "    <path d=\"M18.56 5.44l.94 2.06.94-2.06 2.06-.94-2.06-.94-.94-2.06-.94 2.06-2.06.94zm-11 1L8.5 8.5l.94-2.06 2.06-.94-2.06-.94L8.5 2.5l-.94 2.06-2.06.94zm10 10l.94 2.06.94-2.06 2.06-.94-2.06-.94-.94-2.06-.94 2.06-2.06.94z\"/><path d=\"M17.41 7.96l-1.37-1.37c-.4-.4-.92-.59-1.43-.59-.52 0-1.04.2-1.43.59L10.3 9.45l-7.72 7.72c-.78.78-.78 2.05 0 2.83L4 21.41c.39.39.9.59 1.41.59.51 0 1.02-.2 1.41-.59l7.78-7.78 2.81-2.81c.8-.78.8-2.07 0-2.86zM5.41 20L4 18.59l7.72-7.72 1.47 1.35L5.41 20z\"/>\n",
              "  </svg>\n",
              "      </button>\n",
              "      \n",
              "  <style>\n",
              "    .colab-df-container {\n",
              "      display:flex;\n",
              "      flex-wrap:wrap;\n",
              "      gap: 12px;\n",
              "    }\n",
              "\n",
              "    .colab-df-convert {\n",
              "      background-color: #E8F0FE;\n",
              "      border: none;\n",
              "      border-radius: 50%;\n",
              "      cursor: pointer;\n",
              "      display: none;\n",
              "      fill: #1967D2;\n",
              "      height: 32px;\n",
              "      padding: 0 0 0 0;\n",
              "      width: 32px;\n",
              "    }\n",
              "\n",
              "    .colab-df-convert:hover {\n",
              "      background-color: #E2EBFA;\n",
              "      box-shadow: 0px 1px 2px rgba(60, 64, 67, 0.3), 0px 1px 3px 1px rgba(60, 64, 67, 0.15);\n",
              "      fill: #174EA6;\n",
              "    }\n",
              "\n",
              "    [theme=dark] .colab-df-convert {\n",
              "      background-color: #3B4455;\n",
              "      fill: #D2E3FC;\n",
              "    }\n",
              "\n",
              "    [theme=dark] .colab-df-convert:hover {\n",
              "      background-color: #434B5C;\n",
              "      box-shadow: 0px 1px 3px 1px rgba(0, 0, 0, 0.15);\n",
              "      filter: drop-shadow(0px 1px 2px rgba(0, 0, 0, 0.3));\n",
              "      fill: #FFFFFF;\n",
              "    }\n",
              "  </style>\n",
              "\n",
              "      <script>\n",
              "        const buttonEl =\n",
              "          document.querySelector('#df-d2c622f1-d1c5-4e13-819c-edb0282a0d2d button.colab-df-convert');\n",
              "        buttonEl.style.display =\n",
              "          google.colab.kernel.accessAllowed ? 'block' : 'none';\n",
              "\n",
              "        async function convertToInteractive(key) {\n",
              "          const element = document.querySelector('#df-d2c622f1-d1c5-4e13-819c-edb0282a0d2d');\n",
              "          const dataTable =\n",
              "            await google.colab.kernel.invokeFunction('convertToInteractive',\n",
              "                                                     [key], {});\n",
              "          if (!dataTable) return;\n",
              "\n",
              "          const docLinkHtml = 'Like what you see? Visit the ' +\n",
              "            '<a target=\"_blank\" href=https://colab.research.google.com/notebooks/data_table.ipynb>data table notebook</a>'\n",
              "            + ' to learn more about interactive tables.';\n",
              "          element.innerHTML = '';\n",
              "          dataTable['output_type'] = 'display_data';\n",
              "          await google.colab.output.renderOutput(dataTable, element);\n",
              "          const docLink = document.createElement('div');\n",
              "          docLink.innerHTML = docLinkHtml;\n",
              "          element.appendChild(docLink);\n",
              "        }\n",
              "      </script>\n",
              "    </div>\n",
              "  </div>\n",
              "  "
            ]
          },
          "metadata": {},
          "execution_count": 9
        }
      ]
    },
    {
      "cell_type": "code",
      "metadata": {
        "colab": {
          "base_uri": "https://localhost:8080/"
        },
        "id": "h_YMwGcbdtAB",
        "outputId": "bf3b9fc9-022e-43e3-eda5-773e85e7a7b8"
      },
      "source": [
        "print(\"Number of rows are {}, and number of columns are {}\".format(df1.shape[0],df1.shape[1]))"
      ],
      "execution_count": 10,
      "outputs": [
        {
          "output_type": "stream",
          "name": "stdout",
          "text": [
            "Number of rows are 10034, and number of columns are 33\n"
          ]
        }
      ]
    },
    {
      "cell_type": "markdown",
      "metadata": {
        "id": "QOBsUPJbdN8J"
      },
      "source": [
        "# Preprocessing data"
      ]
    },
    {
      "cell_type": "markdown",
      "metadata": {
        "id": "64gV1ChGdfHI"
      },
      "source": [
        "## Droping columns which are not useful"
      ]
    },
    {
      "cell_type": "code",
      "metadata": {
        "id": "bQx1WAb0deN4"
      },
      "source": [
        "# We will check each and every column one by one to find out weather it has useful data or not after  that we will create list of columns that are useful\n",
        "#df1[32].head(10)"
      ],
      "execution_count": 11,
      "outputs": []
    },
    {
      "cell_type": "code",
      "metadata": {
        "id": "v-RafKWieu9r"
      },
      "source": [
        "useful_col = [3, 6, 7, 9, 10, 11, 12, 13, 16, 17]"
      ],
      "execution_count": 12,
      "outputs": []
    },
    {
      "cell_type": "code",
      "metadata": {
        "id": "PfYV2GBakdSe"
      },
      "source": [
        "df2 = df1.iloc[:,useful_col]"
      ],
      "execution_count": 13,
      "outputs": []
    },
    {
      "cell_type": "markdown",
      "metadata": {
        "id": "3OXKIfBAk6Kk"
      },
      "source": [
        "## Droping rows which do not have housing details"
      ]
    },
    {
      "cell_type": "code",
      "metadata": {
        "id": "Dpsfbqiskkgj"
      },
      "source": [
        "df3 = df2[~df2[3].isnull()]"
      ],
      "execution_count": 14,
      "outputs": []
    },
    {
      "cell_type": "markdown",
      "metadata": {
        "id": "SrMSNhwilyJb"
      },
      "source": [
        "## Processing last 2 columns"
      ]
    },
    {
      "cell_type": "code",
      "metadata": {
        "id": "3-sets4mmOlz"
      },
      "source": [
        "# Taking useful data from col 17 and saving it in 16\n",
        "for i in range(len(df3)):\n",
        "  if(df3.iloc[i,8]=='FEATURED'):\n",
        "    df3.iloc[i,8]=df3.iloc[i,9]"
      ],
      "execution_count": 15,
      "outputs": []
    },
    {
      "cell_type": "markdown",
      "metadata": {
        "id": "DJQHfLHmnbvT"
      },
      "source": [
        "## Checking if apartment is residential or not"
      ]
    },
    {
      "cell_type": "code",
      "metadata": {
        "id": "blkiKDgGm2I5"
      },
      "source": [
        "df4 = df3[df3[3].str.contains('Residential Apartment')]"
      ],
      "execution_count": 16,
      "outputs": []
    },
    {
      "cell_type": "markdown",
      "metadata": {
        "id": "XzvY6qSToYaT"
      },
      "source": [
        "## Generating processed columns "
      ]
    },
    {
      "cell_type": "markdown",
      "metadata": {
        "id": "EThqbEQVvVMi"
      },
      "source": [
        "### Creating Location column"
      ]
    },
    {
      "cell_type": "code",
      "metadata": {
        "colab": {
          "base_uri": "https://localhost:8080/"
        },
        "id": "-Ts1L3uqsU88",
        "outputId": "ff9c228f-f99b-47dc-b7f0-d5b0408add43"
      },
      "source": [
        "df4['Location'] = None\n",
        "for i in range(len(df4)):\n",
        "  pattern = 'Residential Apartment in '\n",
        "  result = re.finditer(pattern, df4.iloc[i,0])\n",
        "  end_index = [r.end() for r in result][0]\n",
        "  df4.iloc[i,10] =  df4.iloc[i,0][end_index:]"
      ],
      "execution_count": 17,
      "outputs": [
        {
          "output_type": "stream",
          "name": "stderr",
          "text": [
            "/usr/local/lib/python3.7/dist-packages/ipykernel_launcher.py:1: SettingWithCopyWarning: \n",
            "A value is trying to be set on a copy of a slice from a DataFrame.\n",
            "Try using .loc[row_indexer,col_indexer] = value instead\n",
            "\n",
            "See the caveats in the documentation: https://pandas.pydata.org/pandas-docs/stable/user_guide/indexing.html#returning-a-view-versus-a-copy\n",
            "  \"\"\"Entry point for launching an IPython kernel.\n",
            "/usr/local/lib/python3.7/dist-packages/pandas/core/indexing.py:1817: SettingWithCopyWarning: \n",
            "A value is trying to be set on a copy of a slice from a DataFrame.\n",
            "Try using .loc[row_indexer,col_indexer] = value instead\n",
            "\n",
            "See the caveats in the documentation: https://pandas.pydata.org/pandas-docs/stable/user_guide/indexing.html#returning-a-view-versus-a-copy\n",
            "  self._setitem_single_column(loc, value, pi)\n"
          ]
        }
      ]
    },
    {
      "cell_type": "markdown",
      "metadata": {
        "id": "dHcoHByovcWJ"
      },
      "source": [
        "### Creating Price column"
      ]
    },
    {
      "cell_type": "code",
      "metadata": {
        "colab": {
          "base_uri": "https://localhost:8080/"
        },
        "id": "smYEkgFPt8U8",
        "outputId": "09323d34-7ad3-4791-8ad2-9d72cc4253ee"
      },
      "source": [
        "df4['Price (Lac)'] = None\n",
        "for i in range(len(df4)):\n",
        "  \n",
        "  price = re.findall('\\d*\\.?\\d+',df4.iloc[i,1])\n",
        "  \n",
        "  try: \n",
        "    if(len(price)==2):\n",
        "      if(df4.iloc[i,4]=='sq.ft.'):\n",
        "        price = (float(price[0])+float(price[1]))/2\n",
        "      elif(df4.iloc[i,4]=='Cr'):\n",
        "        price = (float(price[0])+float(price[1])*100)/2 \n",
        "    else:\n",
        "      price = float(price[0]) \n",
        "    price = round(price,2)\n",
        "  \n",
        "    if(df4.iloc[i,2]=='Cr'):\n",
        "      df4.iloc[i,11] = price*100\n",
        "    else:\n",
        "      df4.iloc[i,11] = price\n",
        "  except:\n",
        "    df4.iloc[i,11] = None\n"
      ],
      "execution_count": 18,
      "outputs": [
        {
          "output_type": "stream",
          "name": "stderr",
          "text": [
            "/usr/local/lib/python3.7/dist-packages/ipykernel_launcher.py:1: SettingWithCopyWarning: \n",
            "A value is trying to be set on a copy of a slice from a DataFrame.\n",
            "Try using .loc[row_indexer,col_indexer] = value instead\n",
            "\n",
            "See the caveats in the documentation: https://pandas.pydata.org/pandas-docs/stable/user_guide/indexing.html#returning-a-view-versus-a-copy\n",
            "  \"\"\"Entry point for launching an IPython kernel.\n",
            "/usr/local/lib/python3.7/dist-packages/pandas/core/indexing.py:1817: SettingWithCopyWarning: \n",
            "A value is trying to be set on a copy of a slice from a DataFrame.\n",
            "Try using .loc[row_indexer,col_indexer] = value instead\n",
            "\n",
            "See the caveats in the documentation: https://pandas.pydata.org/pandas-docs/stable/user_guide/indexing.html#returning-a-view-versus-a-copy\n",
            "  self._setitem_single_column(loc, value, pi)\n"
          ]
        }
      ]
    },
    {
      "cell_type": "code",
      "metadata": {
        "colab": {
          "base_uri": "https://localhost:8080/",
          "height": 350
        },
        "id": "1YYIDRwnFZ54",
        "outputId": "595edeae-b304-4ca2-d76d-7f6b982462fc"
      },
      "source": [
        "df4.head()"
      ],
      "execution_count": 19,
      "outputs": [
        {
          "output_type": "execute_result",
          "data": {
            "text/plain": [
              "                                               3       6   7      9      10  \\\n",
              "0  3 BHK Residential Apartment in Mira Road East   ₹ 1.3  Cr  1,335  sq.ft.   \n",
              "1        2 BHK Residential Apartment in Kharghar  ₹ 1.23  Cr  1,205  sq.ft.   \n",
              "2            2 BHK Residential Apartment in Ulwe  ₹ 1.15  Cr  1,240  sq.ft.   \n",
              "3          1 BHK Residential Apartment in Vakola   ₹ 1.1  Cr    760  sq.ft.   \n",
              "4        2 BHK Residential Apartment in Ghansoli   ₹ 1.7  Cr  1,400  sq.ft.   \n",
              "\n",
              "                                11     12       13             16      17  \\\n",
              "0  (124 sq.m.) Super built-up Area  3 BHK  3 Baths  READY TO MOVE  RESALE   \n",
              "1  (112 sq.m.) Super built-up Area  2 BHK  2 Baths  READY TO MOVE  RESALE   \n",
              "2  (115 sq.m.) Super built-up Area  2 BHK  2 Baths  READY TO MOVE  RESALE   \n",
              "3   (71 sq.m.) Super built-up Area  1 BHK   1 Bath  READY TO MOVE  RESALE   \n",
              "4        (130 sq.m.) Built-up Area  2 BHK  2 Baths  READY TO MOVE  RESALE   \n",
              "\n",
              "         Location Price (Lac)  \n",
              "0  Mira Road East      130.00  \n",
              "1        Kharghar      123.00  \n",
              "2            Ulwe      115.00  \n",
              "3          Vakola      110.00  \n",
              "4        Ghansoli      170.00  "
            ],
            "text/html": [
              "\n",
              "  <div id=\"df-ec7bec1c-8d6e-44bf-bfa2-ca6fcf309024\">\n",
              "    <div class=\"colab-df-container\">\n",
              "      <div>\n",
              "<style scoped>\n",
              "    .dataframe tbody tr th:only-of-type {\n",
              "        vertical-align: middle;\n",
              "    }\n",
              "\n",
              "    .dataframe tbody tr th {\n",
              "        vertical-align: top;\n",
              "    }\n",
              "\n",
              "    .dataframe thead th {\n",
              "        text-align: right;\n",
              "    }\n",
              "</style>\n",
              "<table border=\"1\" class=\"dataframe\">\n",
              "  <thead>\n",
              "    <tr style=\"text-align: right;\">\n",
              "      <th></th>\n",
              "      <th>3</th>\n",
              "      <th>6</th>\n",
              "      <th>7</th>\n",
              "      <th>9</th>\n",
              "      <th>10</th>\n",
              "      <th>11</th>\n",
              "      <th>12</th>\n",
              "      <th>13</th>\n",
              "      <th>16</th>\n",
              "      <th>17</th>\n",
              "      <th>Location</th>\n",
              "      <th>Price (Lac)</th>\n",
              "    </tr>\n",
              "  </thead>\n",
              "  <tbody>\n",
              "    <tr>\n",
              "      <th>0</th>\n",
              "      <td>3 BHK Residential Apartment in Mira Road East</td>\n",
              "      <td>₹ 1.3</td>\n",
              "      <td>Cr</td>\n",
              "      <td>1,335</td>\n",
              "      <td>sq.ft.</td>\n",
              "      <td>(124 sq.m.) Super built-up Area</td>\n",
              "      <td>3 BHK</td>\n",
              "      <td>3 Baths</td>\n",
              "      <td>READY TO MOVE</td>\n",
              "      <td>RESALE</td>\n",
              "      <td>Mira Road East</td>\n",
              "      <td>130.00</td>\n",
              "    </tr>\n",
              "    <tr>\n",
              "      <th>1</th>\n",
              "      <td>2 BHK Residential Apartment in Kharghar</td>\n",
              "      <td>₹ 1.23</td>\n",
              "      <td>Cr</td>\n",
              "      <td>1,205</td>\n",
              "      <td>sq.ft.</td>\n",
              "      <td>(112 sq.m.) Super built-up Area</td>\n",
              "      <td>2 BHK</td>\n",
              "      <td>2 Baths</td>\n",
              "      <td>READY TO MOVE</td>\n",
              "      <td>RESALE</td>\n",
              "      <td>Kharghar</td>\n",
              "      <td>123.00</td>\n",
              "    </tr>\n",
              "    <tr>\n",
              "      <th>2</th>\n",
              "      <td>2 BHK Residential Apartment in Ulwe</td>\n",
              "      <td>₹ 1.15</td>\n",
              "      <td>Cr</td>\n",
              "      <td>1,240</td>\n",
              "      <td>sq.ft.</td>\n",
              "      <td>(115 sq.m.) Super built-up Area</td>\n",
              "      <td>2 BHK</td>\n",
              "      <td>2 Baths</td>\n",
              "      <td>READY TO MOVE</td>\n",
              "      <td>RESALE</td>\n",
              "      <td>Ulwe</td>\n",
              "      <td>115.00</td>\n",
              "    </tr>\n",
              "    <tr>\n",
              "      <th>3</th>\n",
              "      <td>1 BHK Residential Apartment in Vakola</td>\n",
              "      <td>₹ 1.1</td>\n",
              "      <td>Cr</td>\n",
              "      <td>760</td>\n",
              "      <td>sq.ft.</td>\n",
              "      <td>(71 sq.m.) Super built-up Area</td>\n",
              "      <td>1 BHK</td>\n",
              "      <td>1 Bath</td>\n",
              "      <td>READY TO MOVE</td>\n",
              "      <td>RESALE</td>\n",
              "      <td>Vakola</td>\n",
              "      <td>110.00</td>\n",
              "    </tr>\n",
              "    <tr>\n",
              "      <th>4</th>\n",
              "      <td>2 BHK Residential Apartment in Ghansoli</td>\n",
              "      <td>₹ 1.7</td>\n",
              "      <td>Cr</td>\n",
              "      <td>1,400</td>\n",
              "      <td>sq.ft.</td>\n",
              "      <td>(130 sq.m.) Built-up Area</td>\n",
              "      <td>2 BHK</td>\n",
              "      <td>2 Baths</td>\n",
              "      <td>READY TO MOVE</td>\n",
              "      <td>RESALE</td>\n",
              "      <td>Ghansoli</td>\n",
              "      <td>170.00</td>\n",
              "    </tr>\n",
              "  </tbody>\n",
              "</table>\n",
              "</div>\n",
              "      <button class=\"colab-df-convert\" onclick=\"convertToInteractive('df-ec7bec1c-8d6e-44bf-bfa2-ca6fcf309024')\"\n",
              "              title=\"Convert this dataframe to an interactive table.\"\n",
              "              style=\"display:none;\">\n",
              "        \n",
              "  <svg xmlns=\"http://www.w3.org/2000/svg\" height=\"24px\"viewBox=\"0 0 24 24\"\n",
              "       width=\"24px\">\n",
              "    <path d=\"M0 0h24v24H0V0z\" fill=\"none\"/>\n",
              "    <path d=\"M18.56 5.44l.94 2.06.94-2.06 2.06-.94-2.06-.94-.94-2.06-.94 2.06-2.06.94zm-11 1L8.5 8.5l.94-2.06 2.06-.94-2.06-.94L8.5 2.5l-.94 2.06-2.06.94zm10 10l.94 2.06.94-2.06 2.06-.94-2.06-.94-.94-2.06-.94 2.06-2.06.94z\"/><path d=\"M17.41 7.96l-1.37-1.37c-.4-.4-.92-.59-1.43-.59-.52 0-1.04.2-1.43.59L10.3 9.45l-7.72 7.72c-.78.78-.78 2.05 0 2.83L4 21.41c.39.39.9.59 1.41.59.51 0 1.02-.2 1.41-.59l7.78-7.78 2.81-2.81c.8-.78.8-2.07 0-2.86zM5.41 20L4 18.59l7.72-7.72 1.47 1.35L5.41 20z\"/>\n",
              "  </svg>\n",
              "      </button>\n",
              "      \n",
              "  <style>\n",
              "    .colab-df-container {\n",
              "      display:flex;\n",
              "      flex-wrap:wrap;\n",
              "      gap: 12px;\n",
              "    }\n",
              "\n",
              "    .colab-df-convert {\n",
              "      background-color: #E8F0FE;\n",
              "      border: none;\n",
              "      border-radius: 50%;\n",
              "      cursor: pointer;\n",
              "      display: none;\n",
              "      fill: #1967D2;\n",
              "      height: 32px;\n",
              "      padding: 0 0 0 0;\n",
              "      width: 32px;\n",
              "    }\n",
              "\n",
              "    .colab-df-convert:hover {\n",
              "      background-color: #E2EBFA;\n",
              "      box-shadow: 0px 1px 2px rgba(60, 64, 67, 0.3), 0px 1px 3px 1px rgba(60, 64, 67, 0.15);\n",
              "      fill: #174EA6;\n",
              "    }\n",
              "\n",
              "    [theme=dark] .colab-df-convert {\n",
              "      background-color: #3B4455;\n",
              "      fill: #D2E3FC;\n",
              "    }\n",
              "\n",
              "    [theme=dark] .colab-df-convert:hover {\n",
              "      background-color: #434B5C;\n",
              "      box-shadow: 0px 1px 3px 1px rgba(0, 0, 0, 0.15);\n",
              "      filter: drop-shadow(0px 1px 2px rgba(0, 0, 0, 0.3));\n",
              "      fill: #FFFFFF;\n",
              "    }\n",
              "  </style>\n",
              "\n",
              "      <script>\n",
              "        const buttonEl =\n",
              "          document.querySelector('#df-ec7bec1c-8d6e-44bf-bfa2-ca6fcf309024 button.colab-df-convert');\n",
              "        buttonEl.style.display =\n",
              "          google.colab.kernel.accessAllowed ? 'block' : 'none';\n",
              "\n",
              "        async function convertToInteractive(key) {\n",
              "          const element = document.querySelector('#df-ec7bec1c-8d6e-44bf-bfa2-ca6fcf309024');\n",
              "          const dataTable =\n",
              "            await google.colab.kernel.invokeFunction('convertToInteractive',\n",
              "                                                     [key], {});\n",
              "          if (!dataTable) return;\n",
              "\n",
              "          const docLinkHtml = 'Like what you see? Visit the ' +\n",
              "            '<a target=\"_blank\" href=https://colab.research.google.com/notebooks/data_table.ipynb>data table notebook</a>'\n",
              "            + ' to learn more about interactive tables.';\n",
              "          element.innerHTML = '';\n",
              "          dataTable['output_type'] = 'display_data';\n",
              "          await google.colab.output.renderOutput(dataTable, element);\n",
              "          const docLink = document.createElement('div');\n",
              "          docLink.innerHTML = docLinkHtml;\n",
              "          element.appendChild(docLink);\n",
              "        }\n",
              "      </script>\n",
              "    </div>\n",
              "  </div>\n",
              "  "
            ]
          },
          "metadata": {},
          "execution_count": 19
        }
      ]
    },
    {
      "cell_type": "code",
      "metadata": {
        "id": "zHMe3kS94Fql"
      },
      "source": [
        "df4 = df4[~df4['Price (Lac)'].isnull()]"
      ],
      "execution_count": 20,
      "outputs": []
    },
    {
      "cell_type": "markdown",
      "metadata": {
        "id": "fYJJ1MvE6-SF"
      },
      "source": [
        "### Creating Area column"
      ]
    },
    {
      "cell_type": "code",
      "metadata": {
        "id": "I-stSPt-H8Z6",
        "outputId": "5c3cc2d6-b9db-49c5-c90e-d13d18ad48cd",
        "colab": {
          "base_uri": "https://localhost:8080/"
        }
      },
      "source": [
        "df4['Area (sq.ft)'] = None\n",
        "for i in range(len(df4)):\n",
        "  area = re.findall('\\d*\\.?\\d+',df4.iloc[i,3].replace(',',''))\n",
        "  try: \n",
        "    if(len(area)==2):\n",
        "      area = (float(area[0])+float(area[1]))/2\n",
        "    else:\n",
        "      area = float(area[0]) \n",
        "    area = round(area,2)\n",
        "    df4.iloc[i,12] = area\n",
        "\n",
        "  except:\n",
        "    df4.iloc[i,12] = None  \n",
        "  "
      ],
      "execution_count": 21,
      "outputs": [
        {
          "output_type": "stream",
          "name": "stderr",
          "text": [
            "/usr/local/lib/python3.7/dist-packages/ipykernel_launcher.py:1: SettingWithCopyWarning: \n",
            "A value is trying to be set on a copy of a slice from a DataFrame.\n",
            "Try using .loc[row_indexer,col_indexer] = value instead\n",
            "\n",
            "See the caveats in the documentation: https://pandas.pydata.org/pandas-docs/stable/user_guide/indexing.html#returning-a-view-versus-a-copy\n",
            "  \"\"\"Entry point for launching an IPython kernel.\n",
            "/usr/local/lib/python3.7/dist-packages/pandas/core/indexing.py:1817: SettingWithCopyWarning: \n",
            "A value is trying to be set on a copy of a slice from a DataFrame.\n",
            "Try using .loc[row_indexer,col_indexer] = value instead\n",
            "\n",
            "See the caveats in the documentation: https://pandas.pydata.org/pandas-docs/stable/user_guide/indexing.html#returning-a-view-versus-a-copy\n",
            "  self._setitem_single_column(loc, value, pi)\n"
          ]
        }
      ]
    },
    {
      "cell_type": "markdown",
      "metadata": {
        "id": "BBnbaNZsK8Sn"
      },
      "source": [
        "### Creating BHK column"
      ]
    },
    {
      "cell_type": "code",
      "metadata": {
        "id": "Y9Ucq7EWL_96"
      },
      "source": [
        "df4['BHK'] = None\n",
        "for i in range(len(df4)):\n",
        "  try:\n",
        "    bhk = int(re.findall('\\d*\\.?\\d+',df4.iloc[i,6])[0])\n",
        "    df4.iloc[i,13] = bhk\n",
        "  except:\n",
        "    df4.iloc[i,13] = None  "
      ],
      "execution_count": 22,
      "outputs": []
    },
    {
      "cell_type": "code",
      "metadata": {
        "id": "K4QZ3yT8M2Br"
      },
      "source": [
        "df4 = df4[~df4[ 'BHK'].isnull()]"
      ],
      "execution_count": 23,
      "outputs": []
    },
    {
      "cell_type": "markdown",
      "metadata": {
        "id": "sjkbdLJZNjfz"
      },
      "source": [
        "### Creating Bathrooms column"
      ]
    },
    {
      "cell_type": "code",
      "metadata": {
        "id": "JXSk01f1Ollm",
        "outputId": "2614146a-0ef2-4cf5-a656-b04a92345b79",
        "colab": {
          "base_uri": "https://localhost:8080/"
        }
      },
      "source": [
        "df4['Bathrooms'] = None\n",
        "for i in range(len(df4)):\n",
        "  try:\n",
        "    if(pd.isnull(df4.iloc[i,7]) & ('Bath' in df4.iloc[i,5])):\n",
        "      bath = int(re.findall('\\d*\\.?\\d+',df4.iloc[i,5])[0])\n",
        "      df4.iloc[i,14] = bath\n",
        "    elif(~pd.isnull(df4.iloc[i,7])):\n",
        "      bath = int(re.findall('\\d*\\.?\\d+',df4.iloc[i,7])[0])\n",
        "      df4.iloc[i,14] = bath\n",
        "  except:\n",
        "    df4.iloc[i,14] = None"
      ],
      "execution_count": 24,
      "outputs": [
        {
          "output_type": "stream",
          "name": "stderr",
          "text": [
            "/usr/local/lib/python3.7/dist-packages/ipykernel_launcher.py:1: SettingWithCopyWarning: \n",
            "A value is trying to be set on a copy of a slice from a DataFrame.\n",
            "Try using .loc[row_indexer,col_indexer] = value instead\n",
            "\n",
            "See the caveats in the documentation: https://pandas.pydata.org/pandas-docs/stable/user_guide/indexing.html#returning-a-view-versus-a-copy\n",
            "  \"\"\"Entry point for launching an IPython kernel.\n",
            "/usr/local/lib/python3.7/dist-packages/pandas/core/indexing.py:1817: SettingWithCopyWarning: \n",
            "A value is trying to be set on a copy of a slice from a DataFrame.\n",
            "Try using .loc[row_indexer,col_indexer] = value instead\n",
            "\n",
            "See the caveats in the documentation: https://pandas.pydata.org/pandas-docs/stable/user_guide/indexing.html#returning-a-view-versus-a-copy\n",
            "  self._setitem_single_column(loc, value, pi)\n"
          ]
        }
      ]
    },
    {
      "cell_type": "code",
      "metadata": {
        "id": "pVsHOJFlViyy"
      },
      "source": [
        "# Filling nan values in bathrooms column\n",
        "for i in range(len(df4)):\n",
        "  if(pd.isnull(df4.iloc[i,14])):\n",
        "    df4.iloc[i,14]=df4.iloc[i,13]"
      ],
      "execution_count": 25,
      "outputs": []
    },
    {
      "cell_type": "markdown",
      "metadata": {
        "id": "Fbv86GIZW7nh"
      },
      "source": [
        "### Creating Status column"
      ]
    },
    {
      "cell_type": "code",
      "metadata": {
        "id": "OWmrmRMFWgXP"
      },
      "source": [
        "df4['Status'] = df4[16]"
      ],
      "execution_count": 26,
      "outputs": []
    },
    {
      "cell_type": "markdown",
      "metadata": {
        "id": "nMFOM2HSXmnJ"
      },
      "source": [
        "## Removing useless columns"
      ]
    },
    {
      "cell_type": "code",
      "metadata": {
        "id": "s1WdyxijXSc0"
      },
      "source": [
        "df5 = df4.drop([3,6,7,9,10,11,12,13,16,17], axis=1)"
      ],
      "execution_count": 27,
      "outputs": []
    },
    {
      "cell_type": "markdown",
      "metadata": {
        "id": "CcWc-fvwZe8_"
      },
      "source": [
        "## Analyzing Location column"
      ]
    },
    {
      "cell_type": "code",
      "metadata": {
        "id": "mOyd14wvYAP6"
      },
      "source": [
        "df5['Location'] = df5['Location'].apply(lambda x: x.strip())\n",
        "location_count = df5.groupby('Location')['Location'].agg('count')"
      ],
      "execution_count": 28,
      "outputs": []
    },
    {
      "cell_type": "code",
      "metadata": {
        "colab": {
          "base_uri": "https://localhost:8080/"
        },
        "id": "AVEUFff8a_aH",
        "outputId": "0b809c84-caf7-4451-c0f1-91d4c6f4406c"
      },
      "source": [
        "print('There are {} unique locations'.format(len(location_count)))"
      ],
      "execution_count": 29,
      "outputs": [
        {
          "output_type": "stream",
          "name": "stdout",
          "text": [
            "There are 2047 unique locations\n"
          ]
        }
      ]
    },
    {
      "cell_type": "code",
      "metadata": {
        "colab": {
          "base_uri": "https://localhost:8080/"
        },
        "id": "xkmKvNOKcdkI",
        "outputId": "49b2b4a2-4b9b-4f4d-b008-7070ec118fbd"
      },
      "source": [
        "print('There are {} unique locations with value count of greater than 10'.format(len(location_count[location_count>10])))"
      ],
      "execution_count": 30,
      "outputs": [
        {
          "output_type": "stream",
          "name": "stdout",
          "text": [
            "There are 149 unique locations with value count of greater than 10\n"
          ]
        }
      ]
    },
    {
      "cell_type": "code",
      "metadata": {
        "id": "y0RYgi87d4QB"
      },
      "source": [
        "# We will name all locations with value count less than or equal to 10 as other\n",
        "location_count_10 = location_count[location_count<=10]\n",
        "df5['Location'] = df5['Location'].apply(lambda x: 'other' if x in location_count_10 else x)"
      ],
      "execution_count": 31,
      "outputs": []
    },
    {
      "cell_type": "markdown",
      "metadata": {
        "id": "2fRoGX3HphM6"
      },
      "source": [
        "## Changing dtypes of columns"
      ]
    },
    {
      "cell_type": "code",
      "metadata": {
        "id": "BtYgk-g5pnzZ"
      },
      "source": [
        "df5['Price (Lac)'] = df5['Price (Lac)'].apply(pd.to_numeric)\n",
        "df5['Area (sq.ft)'] = df5['Area (sq.ft)'].apply(pd.to_numeric)\n",
        "df5['BHK'] = df5['BHK'].apply(pd.to_numeric)\n",
        "df5['Bathrooms'] = df5['Bathrooms'].apply(pd.to_numeric)"
      ],
      "execution_count": 32,
      "outputs": []
    },
    {
      "cell_type": "markdown",
      "metadata": {
        "id": "aw4Fa7xngksp"
      },
      "source": [
        "## Outlier detection"
      ]
    },
    {
      "cell_type": "code",
      "metadata": {
        "colab": {
          "base_uri": "https://localhost:8080/",
          "height": 297
        },
        "id": "vs6gmgQCMiey",
        "outputId": "1fddb21f-e529-4bb1-b88d-adf5ce96d6fe"
      },
      "source": [
        "df5.describe()"
      ],
      "execution_count": 33,
      "outputs": [
        {
          "output_type": "execute_result",
          "data": {
            "text/plain": [
              "       Price (Lac)  Area (sq.ft)     BHK  Bathrooms\n",
              "count      8534.00       8534.00 8534.00    8534.00\n",
              "mean         99.37        865.01    1.60       1.66\n",
              "std         116.40       6075.01    0.72       0.69\n",
              "min           5.50          1.00    1.00       1.00\n",
              "25%          35.00        550.00    1.00       1.00\n",
              "50%          63.00        677.00    1.00       2.00\n",
              "75%         120.00        960.00    2.00       2.00\n",
              "max        2500.00     559723.00    6.00       6.00"
            ],
            "text/html": [
              "\n",
              "  <div id=\"df-b90f9a6f-e101-4d4d-bf58-4561f7239e38\">\n",
              "    <div class=\"colab-df-container\">\n",
              "      <div>\n",
              "<style scoped>\n",
              "    .dataframe tbody tr th:only-of-type {\n",
              "        vertical-align: middle;\n",
              "    }\n",
              "\n",
              "    .dataframe tbody tr th {\n",
              "        vertical-align: top;\n",
              "    }\n",
              "\n",
              "    .dataframe thead th {\n",
              "        text-align: right;\n",
              "    }\n",
              "</style>\n",
              "<table border=\"1\" class=\"dataframe\">\n",
              "  <thead>\n",
              "    <tr style=\"text-align: right;\">\n",
              "      <th></th>\n",
              "      <th>Price (Lac)</th>\n",
              "      <th>Area (sq.ft)</th>\n",
              "      <th>BHK</th>\n",
              "      <th>Bathrooms</th>\n",
              "    </tr>\n",
              "  </thead>\n",
              "  <tbody>\n",
              "    <tr>\n",
              "      <th>count</th>\n",
              "      <td>8534.00</td>\n",
              "      <td>8534.00</td>\n",
              "      <td>8534.00</td>\n",
              "      <td>8534.00</td>\n",
              "    </tr>\n",
              "    <tr>\n",
              "      <th>mean</th>\n",
              "      <td>99.37</td>\n",
              "      <td>865.01</td>\n",
              "      <td>1.60</td>\n",
              "      <td>1.66</td>\n",
              "    </tr>\n",
              "    <tr>\n",
              "      <th>std</th>\n",
              "      <td>116.40</td>\n",
              "      <td>6075.01</td>\n",
              "      <td>0.72</td>\n",
              "      <td>0.69</td>\n",
              "    </tr>\n",
              "    <tr>\n",
              "      <th>min</th>\n",
              "      <td>5.50</td>\n",
              "      <td>1.00</td>\n",
              "      <td>1.00</td>\n",
              "      <td>1.00</td>\n",
              "    </tr>\n",
              "    <tr>\n",
              "      <th>25%</th>\n",
              "      <td>35.00</td>\n",
              "      <td>550.00</td>\n",
              "      <td>1.00</td>\n",
              "      <td>1.00</td>\n",
              "    </tr>\n",
              "    <tr>\n",
              "      <th>50%</th>\n",
              "      <td>63.00</td>\n",
              "      <td>677.00</td>\n",
              "      <td>1.00</td>\n",
              "      <td>2.00</td>\n",
              "    </tr>\n",
              "    <tr>\n",
              "      <th>75%</th>\n",
              "      <td>120.00</td>\n",
              "      <td>960.00</td>\n",
              "      <td>2.00</td>\n",
              "      <td>2.00</td>\n",
              "    </tr>\n",
              "    <tr>\n",
              "      <th>max</th>\n",
              "      <td>2500.00</td>\n",
              "      <td>559723.00</td>\n",
              "      <td>6.00</td>\n",
              "      <td>6.00</td>\n",
              "    </tr>\n",
              "  </tbody>\n",
              "</table>\n",
              "</div>\n",
              "      <button class=\"colab-df-convert\" onclick=\"convertToInteractive('df-b90f9a6f-e101-4d4d-bf58-4561f7239e38')\"\n",
              "              title=\"Convert this dataframe to an interactive table.\"\n",
              "              style=\"display:none;\">\n",
              "        \n",
              "  <svg xmlns=\"http://www.w3.org/2000/svg\" height=\"24px\"viewBox=\"0 0 24 24\"\n",
              "       width=\"24px\">\n",
              "    <path d=\"M0 0h24v24H0V0z\" fill=\"none\"/>\n",
              "    <path d=\"M18.56 5.44l.94 2.06.94-2.06 2.06-.94-2.06-.94-.94-2.06-.94 2.06-2.06.94zm-11 1L8.5 8.5l.94-2.06 2.06-.94-2.06-.94L8.5 2.5l-.94 2.06-2.06.94zm10 10l.94 2.06.94-2.06 2.06-.94-2.06-.94-.94-2.06-.94 2.06-2.06.94z\"/><path d=\"M17.41 7.96l-1.37-1.37c-.4-.4-.92-.59-1.43-.59-.52 0-1.04.2-1.43.59L10.3 9.45l-7.72 7.72c-.78.78-.78 2.05 0 2.83L4 21.41c.39.39.9.59 1.41.59.51 0 1.02-.2 1.41-.59l7.78-7.78 2.81-2.81c.8-.78.8-2.07 0-2.86zM5.41 20L4 18.59l7.72-7.72 1.47 1.35L5.41 20z\"/>\n",
              "  </svg>\n",
              "      </button>\n",
              "      \n",
              "  <style>\n",
              "    .colab-df-container {\n",
              "      display:flex;\n",
              "      flex-wrap:wrap;\n",
              "      gap: 12px;\n",
              "    }\n",
              "\n",
              "    .colab-df-convert {\n",
              "      background-color: #E8F0FE;\n",
              "      border: none;\n",
              "      border-radius: 50%;\n",
              "      cursor: pointer;\n",
              "      display: none;\n",
              "      fill: #1967D2;\n",
              "      height: 32px;\n",
              "      padding: 0 0 0 0;\n",
              "      width: 32px;\n",
              "    }\n",
              "\n",
              "    .colab-df-convert:hover {\n",
              "      background-color: #E2EBFA;\n",
              "      box-shadow: 0px 1px 2px rgba(60, 64, 67, 0.3), 0px 1px 3px 1px rgba(60, 64, 67, 0.15);\n",
              "      fill: #174EA6;\n",
              "    }\n",
              "\n",
              "    [theme=dark] .colab-df-convert {\n",
              "      background-color: #3B4455;\n",
              "      fill: #D2E3FC;\n",
              "    }\n",
              "\n",
              "    [theme=dark] .colab-df-convert:hover {\n",
              "      background-color: #434B5C;\n",
              "      box-shadow: 0px 1px 3px 1px rgba(0, 0, 0, 0.15);\n",
              "      filter: drop-shadow(0px 1px 2px rgba(0, 0, 0, 0.3));\n",
              "      fill: #FFFFFF;\n",
              "    }\n",
              "  </style>\n",
              "\n",
              "      <script>\n",
              "        const buttonEl =\n",
              "          document.querySelector('#df-b90f9a6f-e101-4d4d-bf58-4561f7239e38 button.colab-df-convert');\n",
              "        buttonEl.style.display =\n",
              "          google.colab.kernel.accessAllowed ? 'block' : 'none';\n",
              "\n",
              "        async function convertToInteractive(key) {\n",
              "          const element = document.querySelector('#df-b90f9a6f-e101-4d4d-bf58-4561f7239e38');\n",
              "          const dataTable =\n",
              "            await google.colab.kernel.invokeFunction('convertToInteractive',\n",
              "                                                     [key], {});\n",
              "          if (!dataTable) return;\n",
              "\n",
              "          const docLinkHtml = 'Like what you see? Visit the ' +\n",
              "            '<a target=\"_blank\" href=https://colab.research.google.com/notebooks/data_table.ipynb>data table notebook</a>'\n",
              "            + ' to learn more about interactive tables.';\n",
              "          element.innerHTML = '';\n",
              "          dataTable['output_type'] = 'display_data';\n",
              "          await google.colab.output.renderOutput(dataTable, element);\n",
              "          const docLink = document.createElement('div');\n",
              "          docLink.innerHTML = docLinkHtml;\n",
              "          element.appendChild(docLink);\n",
              "        }\n",
              "      </script>\n",
              "    </div>\n",
              "  </div>\n",
              "  "
            ]
          },
          "metadata": {},
          "execution_count": 33
        }
      ]
    },
    {
      "cell_type": "markdown",
      "metadata": {
        "id": "_f3QDAm1kAUv"
      },
      "source": [
        "### Bathroom outliers with respect to BHK"
      ]
    },
    {
      "cell_type": "code",
      "metadata": {
        "id": "Zq-WJGwrgqvX"
      },
      "source": [
        "# Removing rows where number of bathrooms are more than 2 + BHK (from domain knowledge)\n",
        "df5 = df5[~(df5['Bathrooms']>2+df5['BHK'])]"
      ],
      "execution_count": 34,
      "outputs": []
    },
    {
      "cell_type": "markdown",
      "metadata": {
        "id": "eBlix_fOmQ4D"
      },
      "source": [
        "### Area per BHK outliers"
      ]
    },
    {
      "cell_type": "code",
      "metadata": {
        "id": "HN73kMIKkSCa"
      },
      "source": [
        "# Removing rows where area per bhk is less than 300 (from domain knowledge)\n",
        "df5 = df5[~(df5['Area (sq.ft)']/df5['BHK']<300)]"
      ],
      "execution_count": 35,
      "outputs": []
    },
    {
      "cell_type": "markdown",
      "metadata": {
        "id": "6XGKnmnOnfsJ"
      },
      "source": [
        "### Price per sq.ft outliers"
      ]
    },
    {
      "cell_type": "code",
      "metadata": {
        "id": "BU43VkKule1c",
        "outputId": "4bfa1472-59d5-46b0-84b5-b6fd827de2b8",
        "colab": {
          "base_uri": "https://localhost:8080/"
        }
      },
      "source": [
        "# Creating feature to check price outliers\n",
        "df5['Price per sq.ft (₹)'] = 100000*df5['Price (Lac)']/df5['Area (sq.ft)'] "
      ],
      "execution_count": 36,
      "outputs": [
        {
          "output_type": "stream",
          "name": "stderr",
          "text": [
            "/usr/local/lib/python3.7/dist-packages/ipykernel_launcher.py:2: SettingWithCopyWarning: \n",
            "A value is trying to be set on a copy of a slice from a DataFrame.\n",
            "Try using .loc[row_indexer,col_indexer] = value instead\n",
            "\n",
            "See the caveats in the documentation: https://pandas.pydata.org/pandas-docs/stable/user_guide/indexing.html#returning-a-view-versus-a-copy\n",
            "  \n"
          ]
        }
      ]
    },
    {
      "cell_type": "code",
      "metadata": {
        "colab": {
          "base_uri": "https://localhost:8080/"
        },
        "id": "spioZ8Z1qwE4",
        "outputId": "29b1ac0a-d73d-4a83-f712-0b598266ec90"
      },
      "source": [
        "# Checking stats of Price per sq.ft\n",
        "df5['Price per sq.ft (₹)'].describe()"
      ],
      "execution_count": 37,
      "outputs": [
        {
          "output_type": "execute_result",
          "data": {
            "text/plain": [
              "count     8094.00\n",
              "mean     11876.94\n",
              "std      10930.38\n",
              "min          3.75\n",
              "25%       5376.34\n",
              "50%       8333.33\n",
              "75%      15644.20\n",
              "max     380000.00\n",
              "Name: Price per sq.ft (₹), dtype: float64"
            ]
          },
          "metadata": {},
          "execution_count": 37
        }
      ]
    },
    {
      "cell_type": "code",
      "metadata": {
        "id": "vFtEWpXfrTs3"
      },
      "source": [
        "price_range = (3000,40000) # Decided after research\n",
        "df5 = df5[(df5['Price per sq.ft (₹)']<price_range[1]) & (df5['Price per sq.ft (₹)']>price_range[0])]"
      ],
      "execution_count": 38,
      "outputs": []
    },
    {
      "cell_type": "markdown",
      "metadata": {
        "id": "wai5wH0eNtGB"
      },
      "source": [
        "### Price outliers"
      ]
    },
    {
      "cell_type": "code",
      "metadata": {
        "colab": {
          "base_uri": "https://localhost:8080/"
        },
        "id": "hLwi9vLyNfrQ",
        "outputId": "129acafb-b2c1-48a3-9a68-5f3227004ead"
      },
      "source": [
        "df5['Price (Lac)'].describe()"
      ],
      "execution_count": 39,
      "outputs": [
        {
          "output_type": "execute_result",
          "data": {
            "text/plain": [
              "count   7809.00\n",
              "mean      93.45\n",
              "std       93.72\n",
              "min       11.00\n",
              "25%       35.00\n",
              "50%       62.00\n",
              "75%      115.00\n",
              "max     1675.00\n",
              "Name: Price (Lac), dtype: float64"
            ]
          },
          "metadata": {},
          "execution_count": 39
        }
      ]
    },
    {
      "cell_type": "code",
      "metadata": {
        "id": "-GgcgXfMN7wy"
      },
      "source": [
        "max_price = 1200\n",
        "df5 = df5[~(df5['Price (Lac)']>max_price)]"
      ],
      "execution_count": 40,
      "outputs": []
    },
    {
      "cell_type": "markdown",
      "metadata": {
        "id": "KXnoITdnmcBm"
      },
      "source": [
        "### Area outliers"
      ]
    },
    {
      "cell_type": "code",
      "metadata": {
        "colab": {
          "base_uri": "https://localhost:8080/"
        },
        "id": "4epyN_edlkKj",
        "outputId": "fe092319-4ee7-4737-82df-6793cf48f282"
      },
      "source": [
        "df5['Area (sq.ft)'].describe()"
      ],
      "execution_count": 41,
      "outputs": [
        {
          "output_type": "execute_result",
          "data": {
            "text/plain": [
              "count   7807.00\n",
              "mean     796.47\n",
              "std      366.47\n",
              "min      300.00\n",
              "25%      565.00\n",
              "50%      690.00\n",
              "75%      972.00\n",
              "max     5400.00\n",
              "Name: Area (sq.ft), dtype: float64"
            ]
          },
          "metadata": {},
          "execution_count": 41
        }
      ]
    },
    {
      "cell_type": "code",
      "metadata": {
        "id": "enZM73Gyltp9"
      },
      "source": [
        "df6 = df5[~(df5['Area (sq.ft)']>6000)]"
      ],
      "execution_count": 42,
      "outputs": []
    },
    {
      "cell_type": "markdown",
      "metadata": {
        "id": "x5rP9oYZwj0O"
      },
      "source": [
        "Now data is ready for visualization"
      ]
    },
    {
      "cell_type": "markdown",
      "metadata": {
        "id": "6PRGrIyTwqF7"
      },
      "source": [
        "# Visualization"
      ]
    },
    {
      "cell_type": "markdown",
      "metadata": {
        "id": "AE3Kz-4s7ZDc"
      },
      "source": [
        "## Plotting columns independently"
      ]
    },
    {
      "cell_type": "markdown",
      "metadata": {
        "id": "qUcDOeT8DWIy"
      },
      "source": [
        "### Bar chart of Location"
      ]
    },
    {
      "cell_type": "code",
      "metadata": {
        "id": "vd3Ii0KyxQ91"
      },
      "source": [
        "# Genrating list of locations with value counts greater than 100\n",
        "location_count = df6.groupby('Location')['Location'].agg('count')\n",
        "location_count_100 = location_count[location_count>100].drop('other')"
      ],
      "execution_count": 74,
      "outputs": []
    },
    {
      "cell_type": "code",
      "metadata": {
        "colab": {
          "base_uri": "https://localhost:8080/",
          "height": 54
        },
        "id": "C8tk7QWk59CH",
        "outputId": "9420ba1f-48be-4b97-9080-3d138b37a5c0"
      },
      "source": [
        "plt.figure(figsize=(15,15))\n",
        "plt.barh(location_count_100.index,location_count_100.values)\n",
        "plt.title('Locations with value count greater than 100',color = 'black', fontsize=20)\n",
        "plt.xticks(color = 'black', fontsize=15)\n",
        "plt.yticks(color = 'black', fontsize=15)\n",
        "plt.xlabel('Value count',color = 'black', fontsize=20)\n",
        "plt.ylabel('Location',color = 'black', fontsize=20)\n",
        "plt.show()"
      ],
      "execution_count": 75,
      "outputs": [
        {
          "output_type": "display_data",
          "data": {
            "text/plain": [
              "<Figure size 1080x1080 with 1 Axes>"
            ],
            "image/png": "[encoded data removed]"
          },
          "metadata": {}
        }
      ]
    },
    {
      "cell_type": "markdown",
      "metadata": {
        "id": "k405EY9-DeOh"
      },
      "source": [
        "### Bar chart of Status"
      ]
    },
    {
      "cell_type": "code",
      "metadata": {
        "id": "AtOa6E09DxGZ"
      },
      "source": [
        "status = df6.groupby('Status')['Status'].agg('count')"
      ],
      "execution_count": 76,
      "outputs": []
    },
    {
      "cell_type": "code",
      "metadata": {
        "colab": {
          "base_uri": "https://localhost:8080/",
          "height": 54
        },
        "id": "OQUVyol8-ZwB",
        "outputId": "5c22286d-81b0-4945-99ec-4fbeb67189f4"
      },
      "source": [
        "plt.figure(figsize=(5,10))\n",
        "plt.bar(status.index,status.values)\n",
        "plt.title('Value count of Status',color = 'black', fontsize=15)\n",
        "plt.xticks(color = 'black', fontsize=12)\n",
        "plt.yticks(color = 'black', fontsize=12)\n",
        "plt.xlabel('Status',color = 'black', fontsize=15)\n",
        "plt.ylabel('Value count',color = 'black', fontsize=15)\n",
        "plt.show()"
      ],
      "execution_count": 77,
      "outputs": [
        {
          "output_type": "display_data",
          "data": {
            "text/plain": [
              "<Figure size 360x720 with 1 Axes>"
            ],
            "image/png": "[encoded data removed]"
          },
          "metadata": {}
        }
      ]
    },
    {
      "cell_type": "markdown",
      "metadata": {
        "id": "KFOZGLOMKBUw"
      },
      "source": [
        "### Bar chart of BHK"
      ]
    },
    {
      "cell_type": "code",
      "metadata": {
        "id": "tt3Dh2V7KJ2c"
      },
      "source": [
        "bhk = df6.groupby('BHK')['BHK'].agg('count')"
      ],
      "execution_count": 78,
      "outputs": []
    },
    {
      "cell_type": "code",
      "metadata": {
        "colab": {
          "base_uri": "https://localhost:8080/",
          "height": 54
        },
        "id": "IJsANUWcKJ2c",
        "outputId": "0e198f69-bc67-4ded-e961-6c077b77bee6"
      },
      "source": [
        "plt.figure(figsize=(15,10))\n",
        "plt.bar(bhk.index,bhk.values)\n",
        "plt.title('Value count of BHK',color = 'black', fontsize=15)\n",
        "plt.xticks(color = 'black', fontsize=12)\n",
        "plt.yticks(color = 'black', fontsize=12)\n",
        "plt.xlabel('BHK',color = 'black', fontsize=15)\n",
        "plt.ylabel('Value count',color = 'black', fontsize=15)\n",
        "plt.show()"
      ],
      "execution_count": 79,
      "outputs": [
        {
          "output_type": "display_data",
          "data": {
            "text/plain": [
              "<Figure size 1080x720 with 1 Axes>"
            ],
            "image/png": "[encoded data removed]"
          },
          "metadata": {}
        }
      ]
    },
    {
      "cell_type": "markdown",
      "metadata": {
        "id": "i_kDUOIzKwh3"
      },
      "source": [
        "### Bar chart of Bathrooms"
      ]
    },
    {
      "cell_type": "code",
      "metadata": {
        "id": "9qYiZtq-K1oD"
      },
      "source": [
        "bath = df6.groupby('Bathrooms')['Bathrooms'].agg('count')"
      ],
      "execution_count": 80,
      "outputs": []
    },
    {
      "cell_type": "code",
      "metadata": {
        "colab": {
          "base_uri": "https://localhost:8080/",
          "height": 54
        },
        "id": "eWgSaOOUK1oD",
        "outputId": "106eec13-1f83-4ee6-f1ea-d49c0bd0cc19"
      },
      "source": [
        "plt.figure(figsize=(15,10))\n",
        "plt.bar(bath.index,bath.values)\n",
        "plt.title('Value count of Bathrooms',color = 'black', fontsize=15)\n",
        "plt.xticks(color = 'black', fontsize=12)\n",
        "plt.yticks(color = 'black', fontsize=12)\n",
        "plt.xlabel('Bathroom',color = 'black', fontsize=15)\n",
        "plt.ylabel('Value count',color = 'black', fontsize=15)\n",
        "plt.show()"
      ],
      "execution_count": 81,
      "outputs": [
        {
          "output_type": "display_data",
          "data": {
            "text/plain": [
              "<Figure size 1080x720 with 1 Axes>"
            ],
            "image/png": "[encoded data removed]"
          },
          "metadata": {}
        }
      ]
    },
    {
      "cell_type": "markdown",
      "metadata": {
        "id": "YoZ7lyslHjNV"
      },
      "source": [
        "### Histogram of Area"
      ]
    },
    {
      "cell_type": "code",
      "metadata": {
        "colab": {
          "base_uri": "https://localhost:8080/",
          "height": 54
        },
        "id": "W7K2T7o8Ed96",
        "outputId": "bac89588-9dfc-4187-dc23-5e0bfc635611"
      },
      "source": [
        "plt.figure(figsize=(25,15))\n",
        "plt.hist(df6['Area (sq.ft)'],24)\n",
        "plt.title('Histogram of Area',color = 'black', fontsize=15)\n",
        "plt.xticks(range(0,6250,250), color = 'black', fontsize=12)\n",
        "plt.yticks(color = 'black', fontsize=12)\n",
        "plt.xlabel('Area (sq.ft)',color = 'black', fontsize=15)\n",
        "plt.ylabel('Value count',color = 'black', fontsize=15)\n",
        "plt.show()"
      ],
      "execution_count": 82,
      "outputs": [
        {
          "output_type": "display_data",
          "data": {
            "text/plain": [
              "<Figure size 1800x1080 with 1 Axes>"
            ],
            "image/png": "[encoded data removed]"
          },
          "metadata": {}
        }
      ]
    },
    {
      "cell_type": "markdown",
      "metadata": {
        "id": "qACSaYUSYzr5"
      },
      "source": [
        "### Histogram of Price"
      ]
    },
    {
      "cell_type": "code",
      "metadata": {
        "colab": {
          "base_uri": "https://localhost:8080/",
          "height": 54
        },
        "id": "xHsfLDe-Iqvo",
        "outputId": "c2bf005e-19a7-49df-cc58-008438f9c452"
      },
      "source": [
        "plt.figure(figsize=(25,15))\n",
        "plt.hist(df6['Price (Lac)'],20)\n",
        "plt.title('Histogram of Price',color = 'black', fontsize=24)\n",
        "plt.xticks(range(0,1250,50), color = 'black', fontsize=12)\n",
        "plt.yticks(color = 'black', fontsize=12)\n",
        "plt.xlabel('Price (Lac)',color = 'black', fontsize=15)\n",
        "plt.ylabel('Value count',color = 'black', fontsize=15)\n",
        "plt.show()"
      ],
      "execution_count": 83,
      "outputs": [
        {
          "output_type": "display_data",
          "data": {
            "text/plain": [
              "<Figure size 1800x1080 with 1 Axes>"
            ],
            "image/png": "[encoded data removed]"
          },
          "metadata": {}
        }
      ]
    },
    {
      "cell_type": "markdown",
      "metadata": {
        "id": "Z4YDywVPZqdB"
      },
      "source": [
        "### Histogram of Price per sq.ft  "
      ]
    },
    {
      "cell_type": "code",
      "metadata": {
        "id": "pQfQ0ZAnLhfa",
        "colab": {
          "base_uri": "https://localhost:8080/",
          "height": 54
        },
        "outputId": "d33fbcdb-c693-44f0-ce07-9bf8da2b0df0"
      },
      "source": [
        "plt.figure(figsize=(20,10))\n",
        "plt.hist(df6['Price per sq.ft (₹)'],20)\n",
        "plt.title('Histogram of Price per sq.ft',color = 'black', fontsize=15)\n",
        "plt.xticks(range(0,42500,2500), color = 'black', fontsize=12)\n",
        "plt.yticks(color = 'black', fontsize=12)\n",
        "plt.xlabel('Price per sq.ft (₹)',color = 'black', fontsize=15)\n",
        "plt.ylabel('Value count',color = 'black', fontsize=15)\n",
        "plt.show()"
      ],
      "execution_count": 84,
      "outputs": [
        {
          "output_type": "display_data",
          "data": {
            "text/plain": [
              "<Figure size 1440x720 with 1 Axes>"
            ],
            "image/png": "[encoded data removed]"
          },
          "metadata": {}
        }
      ]
    },
    {
      "cell_type": "markdown",
      "metadata": {
        "id": "_QKpH-MecFNb"
      },
      "source": [
        "## Scatter plots with price"
      ]
    },
    {
      "cell_type": "code",
      "metadata": {
        "colab": {
          "base_uri": "https://localhost:8080/",
          "height": 122
        },
        "id": "8n_Ip1ArZyN9",
        "outputId": "aea2d2b8-bb88-4ab1-de19-f655017bdd26"
      },
      "source": [
        "iter = 1\n",
        "for col in df6.columns.values:\n",
        "  if(is_numeric_dtype(df6[col])):\n",
        "    plt.figure(figsize=(10,25))\n",
        "    plt.subplot(5,1,iter)\n",
        "    plt.scatter(df6[col],df6['Price (Lac)'])\n",
        "    plt.xticks(color = 'black', fontsize=12)\n",
        "    plt.yticks(color = 'black', fontsize=12)\n",
        "    plt.xlabel(col,color = 'black', fontsize=15)\n",
        "    plt.ylabel('Price (Lac)',color = 'black', fontsize=15)\n",
        "    plt.show()\n",
        "    iter+=1\n"
      ],
      "execution_count": 85,
      "outputs": [
        {
          "output_type": "display_data",
          "data": {
            "text/plain": [
              "<Figure size 720x1800 with 1 Axes>"
            ],
            "image/png": "[encoded data removed]"
          },
          "metadata": {}
        },
        {
          "output_type": "display_data",
          "data": {
            "text/plain": [
              "<Figure size 720x1800 with 1 Axes>"
            ],
            "image/png": "[encoded data removed]"
          },
          "metadata": {}
        },
        {
          "output_type": "display_data",
          "data": {
            "text/plain": [
              "<Figure size 720x1800 with 1 Axes>"
            ],
            "image/png": "[encoded data removed]"
          },
          "metadata": {}
        },
        {
          "output_type": "display_data",
          "data": {
            "text/plain": [
              "<Figure size 720x1800 with 1 Axes>"
            ],
            "image/png": "[encoded data removed]"
          },
          "metadata": {}
        },
        {
          "output_type": "display_data",
          "data": {
            "text/plain": [
              "<Figure size 720x1800 with 1 Axes>"
            ],
            "image/png": "[encoded data removed]"
          },
          "metadata": {}
        }
      ]
    },
    {
      "cell_type": "markdown",
      "metadata": {
        "id": "Yiu2iX88wBg1"
      },
      "source": [
        "Observations\n",
        "\n",
        "\n",
        "*   All features are positively correlated with Price\n",
        "\n",
        "\n"
      ]
    },
    {
      "cell_type": "markdown",
      "metadata": {
        "id": "czDELWzSgWr6"
      },
      "source": [
        "## Bar chart of Locations representing price"
      ]
    },
    {
      "cell_type": "code",
      "metadata": {
        "id": "CYwk4MgEg95F"
      },
      "source": [
        "location_prices = df6.groupby('Location').mean()['Price (Lac)']\n",
        "location_price_300 = location_prices[location_prices>300]"
      ],
      "execution_count": 86,
      "outputs": []
    },
    {
      "cell_type": "code",
      "metadata": {
        "colab": {
          "base_uri": "https://localhost:8080/",
          "height": 54
        },
        "id": "88eDtB81hUoN",
        "outputId": "acb76d61-b239-40f8-ba2a-53e0c07bc0c0"
      },
      "source": [
        "plt.figure(figsize=(15,15))\n",
        "plt.barh(location_price_300.index,location_price_300.values)\n",
        "plt.title('Locations with average price greater than 3 Cr',color = 'black', fontsize=20)\n",
        "plt.xticks(color = 'black', fontsize=15)\n",
        "plt.yticks(color = 'black', fontsize=15)\n",
        "plt.xlabel('Average Price (Lac)',color = 'black', fontsize=20)\n",
        "plt.ylabel('Location',color = 'black', fontsize=20)\n",
        "plt.show()"
      ],
      "execution_count": 87,
      "outputs": [
        {
          "output_type": "display_data",
          "data": {
            "text/plain": [
              "<Figure size 1080x1080 with 1 Axes>"
            ],
            "image/png": "[encoded data removed]"
          },
          "metadata": {}
        }
      ]
    },
    {
      "cell_type": "markdown",
      "metadata": {
        "id": "RXqO2GAxpb3R"
      },
      "source": [
        "## Bar chart of Status representing price"
      ]
    },
    {
      "cell_type": "code",
      "metadata": {
        "id": "FpGN3VtUpnOZ"
      },
      "source": [
        "status_price = df6.groupby('Status').mean()['Price (Lac)']"
      ],
      "execution_count": 88,
      "outputs": []
    },
    {
      "cell_type": "code",
      "metadata": {
        "colab": {
          "base_uri": "https://localhost:8080/",
          "height": 54
        },
        "id": "hQPfeY3WpnOZ",
        "outputId": "3c43275d-6f6a-4358-e8e0-d5b65463d011"
      },
      "source": [
        "plt.figure(figsize=(5,10))\n",
        "plt.bar(status_price.index,status_price.values)\n",
        "plt.title('Average Price status wise',color = 'black', fontsize=15)\n",
        "plt.xticks(color = 'black', fontsize=12)\n",
        "plt.yticks(color = 'black', fontsize=12)\n",
        "plt.xlabel('Status',color = 'black', fontsize=15)\n",
        "plt.ylabel('Average Price (Lac)',color = 'black', fontsize=15)\n",
        "plt.show()"
      ],
      "execution_count": 89,
      "outputs": [
        {
          "output_type": "display_data",
          "data": {
            "text/plain": [
              "<Figure size 360x720 with 1 Axes>"
            ],
            "image/png": "[encoded data removed]"
          },
          "metadata": {}
        }
      ]
    },
    {
      "cell_type": "markdown",
      "metadata": {
        "id": "Ye7c4kt6dDcE"
      },
      "source": [
        "## Heat map of corelation matrix"
      ]
    },
    {
      "cell_type": "code",
      "metadata": {
        "colab": {
          "base_uri": "https://localhost:8080/",
          "height": 54
        },
        "id": "MqvXLZPQcQnn",
        "outputId": "e756c0e6-3028-4aaa-d2af-e3d02fe9aaf4"
      },
      "source": [
        "corrMatrix=df6.corr(method='spearman')\n",
        "fig, ax = plt.subplots(figsize=(20,16))\n",
        "sns.heatmap(corrMatrix,annot=True)\n",
        "plt.show()"
      ],
      "execution_count": 90,
      "outputs": [
        {
          "output_type": "display_data",
          "data": {
            "text/plain": [
              "<Figure size 1440x1152 with 2 Axes>"
            ],
            "image/png": "[encoded data removed]"
          },
          "metadata": {}
        }
      ]
    },
    {
      "cell_type": "markdown",
      "metadata": {
        "id": "5lasrrGpvnEP"
      },
      "source": [
        "Observaions\n",
        "\n",
        "\n",
        "\n",
        "*   BHK and Area are highly correlated \n",
        "*   BHK and Bathroom are highly correlated\n",
        "\n"
      ]
    },
    {
      "cell_type": "markdown",
      "metadata": {
        "id": "0ss2OmuewRPs"
      },
      "source": [
        "# Feature Engineering"
      ]
    },
    {
      "cell_type": "markdown",
      "metadata": {
        "id": "wqCyNTRrxl_9"
      },
      "source": [
        "## Seperating X and y"
      ]
    },
    {
      "cell_type": "code",
      "metadata": {
        "colab": {
          "base_uri": "https://localhost:8080/"
        },
        "id": "6f0SBkRq064M",
        "outputId": "976e2ad9-38d5-44aa-bf04-7ff47a0915f7"
      },
      "source": [
        "len(df6['Location'].unique())"
      ],
      "execution_count": 91,
      "outputs": [
        {
          "output_type": "execute_result",
          "data": {
            "text/plain": [
              "150"
            ]
          },
          "metadata": {},
          "execution_count": 91
        }
      ]
    },
    {
      "cell_type": "code",
      "metadata": {
        "id": "U2l6_PP8u8oE"
      },
      "source": [
        "X = df6.drop(['Price (Lac)', 'Price per sq.ft (₹)'], axis=1)\n",
        "y = df6['Price (Lac)']"
      ],
      "execution_count": 92,
      "outputs": []
    },
    {
      "cell_type": "markdown",
      "metadata": {
        "id": "UhBi7drKxvp3"
      },
      "source": [
        "## One hot encoding of Object columns"
      ]
    },
    {
      "cell_type": "code",
      "metadata": {
        "id": "lOEZ0CE0xQBL"
      },
      "source": [
        "# Encoding Status column\n",
        "X['Status'] = X['Status'].apply(lambda x: 1 if x=='READY TO MOVE' else 0)"
      ],
      "execution_count": 93,
      "outputs": []
    },
    {
      "cell_type": "code",
      "metadata": {
        "id": "c3352WJXxSKk"
      },
      "source": [
        "# Encoding Location column\n",
        "dummies = pd.get_dummies(X['Location'])\n",
        "X = pd.concat([X,dummies.drop('other', axis=1)], axis='columns')\n",
        "del X['Location']"
      ],
      "execution_count": 94,
      "outputs": []
    },
    {
      "cell_type": "markdown",
      "metadata": {
        "id": "JJWm2PO3zsBn"
      },
      "source": [
        "## Train-Test split"
      ]
    },
    {
      "cell_type": "code",
      "metadata": {
        "id": "miVDwVP5ysR3"
      },
      "source": [
        "from sklearn.model_selection import train_test_split\n",
        "X_train, X_test, y_train, y_test = train_test_split(X, y, test_size=0.20, random_state=42)"
      ],
      "execution_count": 95,
      "outputs": []
    },
    {
      "cell_type": "markdown",
      "metadata": {
        "id": "u-BRiISOji8b"
      },
      "source": [
        "## Standardization"
      ]
    },
    {
      "cell_type": "code",
      "metadata": {
        "id": "w-_vqJH8qEYZ"
      },
      "source": [
        "# Changing dimensions of dependent variable\n",
        "y_train = np.array(y_train.values.tolist()).reshape(len(y_train),1)\n",
        "y_test = np.array(y_test.values.tolist()).reshape(len(y_test),1)"
      ],
      "execution_count": 96,
      "outputs": []
    },
    {
      "cell_type": "code",
      "metadata": {
        "id": "9tRSbVpijwl_"
      },
      "source": [
        "from sklearn.preprocessing import StandardScaler\n",
        "sc_X = StandardScaler()\n",
        "sc_y = StandardScaler()\n",
        "X_train[['Area (sq.ft)', 'BHK', 'Bathrooms']] = sc_X.fit_transform(X_train[['Area (sq.ft)', 'BHK', 'Bathrooms']])\n",
        "X_test[['Area (sq.ft)', 'BHK', 'Bathrooms']] = sc_X.transform(X_test[['Area (sq.ft)', 'BHK', 'Bathrooms']])\n",
        "y_train = sc_y.fit_transform(y_train)\n",
        "y_test = sc_y.fit_transform(y_test)"
      ],
      "execution_count": 97,
      "outputs": []
    },
    {
      "cell_type": "markdown",
      "metadata": {
        "id": "csJWJacysCJS"
      },
      "source": [
        "# Selecting Regression Model"
      ]
    },
    {
      "cell_type": "markdown",
      "metadata": {
        "id": "HgTAeGezNJU2"
      },
      "source": [
        "## LASSO"
      ]
    },
    {
      "cell_type": "code",
      "metadata": {
        "colab": {
          "base_uri": "https://localhost:8080/"
        },
        "id": "7JJBUt8ssGoZ",
        "outputId": "a53af46a-9e05-4bd2-a216-28e2a82c2aad"
      },
      "source": [
        "from sklearn.model_selection import GridSearchCV\n",
        "from sklearn import linear_model\n",
        "\n",
        "print('Training LASSO regression using GridSearchCV')\n",
        "\n",
        "scoring='r2' # Criterian for hyperparameter selection is R squared\n",
        "  \n",
        "\n",
        "model = linear_model.Lasso()\n",
        "\n",
        "hyperparameters = {'alpha':(1,0.05,0.001,0.)}\n",
        "\n",
        "clf = GridSearchCV(estimator=model, param_grid=hyperparameters, scoring=scoring)\n",
        "clf.fit(np.array(X_train), np.squeeze(y_train))\n",
        "\n",
        "print('Best parameters:')\n",
        "print(clf.best_params_)\n",
        "print('Best Rsquared score: '+ str(clf.best_score_))\n"
      ],
      "execution_count": 98,
      "outputs": [
        {
          "output_type": "stream",
          "name": "stdout",
          "text": [
            "Training LASSO regression using GridSearchCV\n"
          ]
        },
        {
          "output_type": "stream",
          "name": "stderr",
          "text": [
            "/usr/local/lib/python3.7/dist-packages/sklearn/model_selection/_validation.py:680: UserWarning: With alpha=0, this algorithm does not converge well. You are advised to use the LinearRegression estimator\n",
            "  estimator.fit(X_train, y_train, **fit_params)\n",
            "/usr/local/lib/python3.7/dist-packages/sklearn/linear_model/_coordinate_descent.py:648: UserWarning: Coordinate descent with no regularization may lead to unexpected results and is discouraged.\n",
            "  coef_, l1_reg, l2_reg, X, y, max_iter, tol, rng, random, positive\n",
            "/usr/local/lib/python3.7/dist-packages/sklearn/linear_model/_coordinate_descent.py:648: ConvergenceWarning: Objective did not converge. You might want to increase the number of iterations, check the scale of the features or consider increasing regularisation. Duality gap: 8.252e+02, tolerance: 4.841e-01 Linear regression models with null weight for the l1 regularization term are more efficiently fitted using one of the solvers implemented in sklearn.linear_model.Ridge/RidgeCV instead.\n",
            "  coef_, l1_reg, l2_reg, X, y, max_iter, tol, rng, random, positive\n",
            "/usr/local/lib/python3.7/dist-packages/sklearn/model_selection/_validation.py:680: UserWarning: With alpha=0, this algorithm does not converge well. You are advised to use the LinearRegression estimator\n",
            "  estimator.fit(X_train, y_train, **fit_params)\n",
            "/usr/local/lib/python3.7/dist-packages/sklearn/linear_model/_coordinate_descent.py:648: UserWarning: Coordinate descent with no regularization may lead to unexpected results and is discouraged.\n",
            "  coef_, l1_reg, l2_reg, X, y, max_iter, tol, rng, random, positive\n",
            "/usr/local/lib/python3.7/dist-packages/sklearn/linear_model/_coordinate_descent.py:648: ConvergenceWarning: Objective did not converge. You might want to increase the number of iterations, check the scale of the features or consider increasing regularisation. Duality gap: 8.540e+02, tolerance: 5.027e-01 Linear regression models with null weight for the l1 regularization term are more efficiently fitted using one of the solvers implemented in sklearn.linear_model.Ridge/RidgeCV instead.\n",
            "  coef_, l1_reg, l2_reg, X, y, max_iter, tol, rng, random, positive\n",
            "/usr/local/lib/python3.7/dist-packages/sklearn/model_selection/_validation.py:680: UserWarning: With alpha=0, this algorithm does not converge well. You are advised to use the LinearRegression estimator\n",
            "  estimator.fit(X_train, y_train, **fit_params)\n",
            "/usr/local/lib/python3.7/dist-packages/sklearn/linear_model/_coordinate_descent.py:648: UserWarning: Coordinate descent with no regularization may lead to unexpected results and is discouraged.\n",
            "  coef_, l1_reg, l2_reg, X, y, max_iter, tol, rng, random, positive\n",
            "/usr/local/lib/python3.7/dist-packages/sklearn/linear_model/_coordinate_descent.py:648: ConvergenceWarning: Objective did not converge. You might want to increase the number of iterations, check the scale of the features or consider increasing regularisation. Duality gap: 8.488e+02, tolerance: 5.040e-01 Linear regression models with null weight for the l1 regularization term are more efficiently fitted using one of the solvers implemented in sklearn.linear_model.Ridge/RidgeCV instead.\n",
            "  coef_, l1_reg, l2_reg, X, y, max_iter, tol, rng, random, positive\n",
            "/usr/local/lib/python3.7/dist-packages/sklearn/model_selection/_validation.py:680: UserWarning: With alpha=0, this algorithm does not converge well. You are advised to use the LinearRegression estimator\n",
            "  estimator.fit(X_train, y_train, **fit_params)\n",
            "/usr/local/lib/python3.7/dist-packages/sklearn/linear_model/_coordinate_descent.py:648: UserWarning: Coordinate descent with no regularization may lead to unexpected results and is discouraged.\n",
            "  coef_, l1_reg, l2_reg, X, y, max_iter, tol, rng, random, positive\n",
            "/usr/local/lib/python3.7/dist-packages/sklearn/linear_model/_coordinate_descent.py:648: ConvergenceWarning: Objective did not converge. You might want to increase the number of iterations, check the scale of the features or consider increasing regularisation. Duality gap: 8.444e+02, tolerance: 4.869e-01 Linear regression models with null weight for the l1 regularization term are more efficiently fitted using one of the solvers implemented in sklearn.linear_model.Ridge/RidgeCV instead.\n",
            "  coef_, l1_reg, l2_reg, X, y, max_iter, tol, rng, random, positive\n",
            "/usr/local/lib/python3.7/dist-packages/sklearn/model_selection/_validation.py:680: UserWarning: With alpha=0, this algorithm does not converge well. You are advised to use the LinearRegression estimator\n",
            "  estimator.fit(X_train, y_train, **fit_params)\n",
            "/usr/local/lib/python3.7/dist-packages/sklearn/linear_model/_coordinate_descent.py:648: UserWarning: Coordinate descent with no regularization may lead to unexpected results and is discouraged.\n",
            "  coef_, l1_reg, l2_reg, X, y, max_iter, tol, rng, random, positive\n",
            "/usr/local/lib/python3.7/dist-packages/sklearn/linear_model/_coordinate_descent.py:648: ConvergenceWarning: Objective did not converge. You might want to increase the number of iterations, check the scale of the features or consider increasing regularisation. Duality gap: 8.955e+02, tolerance: 5.202e-01 Linear regression models with null weight for the l1 regularization term are more efficiently fitted using one of the solvers implemented in sklearn.linear_model.Ridge/RidgeCV instead.\n",
            "  coef_, l1_reg, l2_reg, X, y, max_iter, tol, rng, random, positive\n",
            "/usr/local/lib/python3.7/dist-packages/sklearn/model_selection/_search.py:926: UserWarning: With alpha=0, this algorithm does not converge well. You are advised to use the LinearRegression estimator\n",
            "  self.best_estimator_.fit(X, y, **fit_params)\n",
            "/usr/local/lib/python3.7/dist-packages/sklearn/linear_model/_coordinate_descent.py:648: UserWarning: Coordinate descent with no regularization may lead to unexpected results and is discouraged.\n",
            "  coef_, l1_reg, l2_reg, X, y, max_iter, tol, rng, random, positive\n"
          ]
        },
        {
          "output_type": "stream",
          "name": "stdout",
          "text": [
            "Best parameters:\n",
            "{'alpha': 0.0}\n",
            "Best Rsquared score: 0.6419357880456189\n"
          ]
        },
        {
          "output_type": "stream",
          "name": "stderr",
          "text": [
            "/usr/local/lib/python3.7/dist-packages/sklearn/linear_model/_coordinate_descent.py:648: ConvergenceWarning: Objective did not converge. You might want to increase the number of iterations, check the scale of the features or consider increasing regularisation. Duality gap: 1.072e+03, tolerance: 6.245e-01 Linear regression models with null weight for the l1 regularization term are more efficiently fitted using one of the solvers implemented in sklearn.linear_model.Ridge/RidgeCV instead.\n",
            "  coef_, l1_reg, l2_reg, X, y, max_iter, tol, rng, random, positive\n"
          ]
        }
      ]
    },
    {
      "cell_type": "markdown",
      "metadata": {
        "id": "J1tGY6UmNU6d"
      },
      "source": [
        "## Ridge"
      ]
    },
    {
      "cell_type": "code",
      "metadata": {
        "colab": {
          "base_uri": "https://localhost:8080/"
        },
        "id": "Wbz1U3tfNd4F",
        "outputId": "55c9e867-e734-497f-cb40-bdb543f12e58"
      },
      "source": [
        "from sklearn.linear_model import Ridge\n",
        "\n",
        "print('Training Ridge regression using GridSearchCV')\n",
        "\n",
        "scoring='r2'\n",
        "\n",
        "model = linear_model.Ridge()\n",
        "\n",
        "hyperparameters = {'alpha':(0,1,5,50)}\n",
        "\n",
        "clf = GridSearchCV(estimator=model, param_grid=hyperparameters, scoring=scoring)\n",
        "clf.fit(np.array(X_train), np.squeeze(y_train))\n",
        "\n",
        "print('Best parameters:')\n",
        "print(clf.best_params_)\n",
        "print('Best Rsquared score: '+ str(clf.best_score_))"
      ],
      "execution_count": 99,
      "outputs": [
        {
          "output_type": "stream",
          "name": "stdout",
          "text": [
            "Training Ridge regression using GridSearchCV\n",
            "Best parameters:\n",
            "{'alpha': 1}\n",
            "Best Rsquared score: 0.6430768744714772\n"
          ]
        }
      ]
    },
    {
      "cell_type": "markdown",
      "metadata": {
        "id": "nTIGfvKUNpCZ"
      },
      "source": [
        "## Random Forest"
      ]
    },
    {
      "cell_type": "code",
      "metadata": {
        "id": "Tlfz5BgiNvGM"
      },
      "source": [
        "#from sklearn.ensemble import RandomForestRegressor\n",
        "\n",
        "#print('Training Random Forest Regressor using GridSearchCV')\n",
        "\n",
        "#scoring='r2' \n",
        "\n",
        "#model = RandomForestRegressor(random_state=0)\n",
        "\n",
        "#hyperparameters = {'max_depth':[65],'n_estimators':[300]}\n",
        "\n",
        "#clf = GridSearchCV(estimator=model, param_grid=hyperparameters, scoring=scoring)\n",
        "#clf.fit(np.array(X_train), np.squeeze(y_train))\n",
        "\n",
        "#print('Best parameters:')\n",
        "#print(clf.best_params_)\n",
        "#print('Best mae score: '+ str(abs(clf.best_score_)))\n",
        "\n"
      ],
      "execution_count": 100,
      "outputs": []
    },
    {
      "cell_type": "markdown",
      "metadata": {
        "id": "hm1BnGWfqtST"
      },
      "source": [
        "## SVR"
      ]
    },
    {
      "cell_type": "code",
      "metadata": {
        "id": "v3IKIvfQt3FO"
      },
      "source": [
        "#from sklearn.svm import SVR\n",
        "\n",
        "#print('Training Support Vector Regression using GridSearchCV')\n",
        "\n",
        "#scoring='r2' \n",
        "\n",
        "#model = SVR(kernel='linear')\n",
        "\n",
        "#hyperparameters = {'C':[0.1],'degree':[3,5,8]}\n",
        "\n",
        "#clf = GridSearchCV(estimator=model, param_grid=hyperparameters, scoring=scoring)\n",
        "#clf.fit(np.array(X_train), np.squeeze(y_train))\n",
        "\n",
        "#print('Best parameters:')\n",
        "#print(clf.best_params_)\n",
        "#print('Best mae score: '+ str(abs(clf.best_score_)))"
      ],
      "execution_count": 101,
      "outputs": []
    },
    {
      "cell_type": "markdown",
      "metadata": {
        "id": "8AMJDdBhtrMN"
      },
      "source": [
        "Linear Regression is giving max R-squared"
      ]
    },
    {
      "cell_type": "markdown",
      "metadata": {
        "id": "wKbyS8SluEYZ"
      },
      "source": [
        "# Final Model - Linear Regression"
      ]
    },
    {
      "cell_type": "code",
      "metadata": {
        "colab": {
          "base_uri": "https://localhost:8080/"
        },
        "id": "GciLXNhOOmXm",
        "outputId": "25e14f16-fce5-446d-f592-cd2e54f7475e"
      },
      "source": [
        "from sklearn.linear_model import LinearRegression\n",
        "reg = LinearRegression()\n",
        "reg.fit(X, y)\n",
        "print('R-squared of for Linear Regression is {}'.format(round(reg.score(X, y),3)))"
      ],
      "execution_count": 71,
      "outputs": [
        {
          "output_type": "stream",
          "name": "stdout",
          "text": [
            "R-squared of for Linear Regression is 0.664\n"
          ]
        }
      ]
    },
    {
      "cell_type": "code",
      "metadata": {
        "id": "CnuOwEySvAJK"
      },
      "source": [
        "def predictPrice(location,area,bhk,bath,status):\n",
        "  try:\n",
        "    loc_index = np.where(X.columns==location)[0][0]\n",
        "  except:\n",
        "    loc_index = 0  \n",
        "\n",
        "  x = np.zeros(len(X.columns))\n",
        "  x[0] = area\n",
        "  x[1] = bhk\n",
        "  x[2] = bath\n",
        "  x[3] = status\n",
        "  if(loc_index>0):\n",
        "    x[loc_index] = 1\n",
        "  return reg.predict([x])"
      ],
      "execution_count": 102,
      "outputs": []
    },
    {
      "cell_type": "code",
      "metadata": {
        "colab": {
          "base_uri": "https://localhost:8080/"
        },
        "id": "XwLukZKXlKKC",
        "outputId": "98e47079-07d4-4262-f383-8026bee8459f"
      },
      "source": [
        "predictPrice('Pokhran-2',1268,3,3,1)"
      ],
      "execution_count": 73,
      "outputs": [
        {
          "output_type": "stream",
          "name": "stderr",
          "text": [
            "/usr/local/lib/python3.7/dist-packages/sklearn/base.py:451: UserWarning: X does not have valid feature names, but LinearRegression was fitted with feature names\n",
            "  \"X does not have valid feature names, but\"\n"
          ]
        },
        {
          "output_type": "execute_result",
          "data": {
            "text/plain": [
              "array([254.12300407])"
            ]
          },
          "metadata": {},
          "execution_count": 73
        }
      ]
    }
  ]
}